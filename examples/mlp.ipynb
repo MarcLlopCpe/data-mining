{
 "cells": [
  {
   "cell_type": "markdown",
   "id": "a3b68110-20a2-4871-a913-80f1525526e3",
   "metadata": {},
   "source": [
    "# Installation of Packages\n",
    "\n",
    "First install packages like numpy, scikit-learn, matplotlib"
   ]
  },
  {
   "cell_type": "code",
   "execution_count": null,
   "id": "d82e133e-421f-4147-8d9f-6c6cac6838f6",
   "metadata": {},
   "outputs": [],
   "source": [
    "!pip install numpy scikit-learn matplotlib"
   ]
  },
  {
   "cell_type": "markdown",
   "id": "479ed763-0655-4265-93cf-ec56f490ba9e",
   "metadata": {},
   "source": [
    "## Importation of packages\n",
    "\n",
    "We import the necessary packages"
   ]
  },
  {
   "cell_type": "code",
   "execution_count": null,
   "id": "0b50d598-27f2-4e72-bf58-ab323281df11",
   "metadata": {},
   "outputs": [],
   "source": [
    "import numpy as np\n",
    "from sklearn.neural_network import MLPClassifier\n",
    "from sklearn import datasets, metrics\n",
    "from sklearn.model_selection import train_test_split\n",
    "from sklearn.preprocessing import StandardScaler\n",
    "import matplotlib.pyplot as plot\n",
    "from sklearn.metrics import confusion_matrix, ConfusionMatrixDisplay"
   ]
  },
  {
   "cell_type": "markdown",
   "id": "27a1c635-1a31-496c-ba1b-1605b42044c6",
   "metadata": {},
   "source": [
    "## Load Dataset\n",
    "\n",
    "We load the necessary IRIS dataset. "
   ]
  },
  {
   "cell_type": "code",
   "execution_count": null,
   "id": "d919d939-2422-4704-9892-f3e0fdb7e1ec",
   "metadata": {},
   "outputs": [],
   "source": [
    "wine = datasets.load_wine()\n",
    "print(wine)"
   ]
  },
  {
   "cell_type": "markdown",
   "id": "b5d2da5b-2811-4c47-b976-f5d919de763a",
   "metadata": {},
   "source": [
    "## Description of the Dataset"
   ]
  },
  {
   "cell_type": "markdown",
   "id": "ec5d80ca-1dbc-4329-81bb-8af2eae72235",
   "metadata": {},
   "source": [
    "### Input features"
   ]
  },
  {
   "cell_type": "code",
   "execution_count": null,
   "id": "cae60d1a-aa96-411e-afb1-22ad1df561b0",
   "metadata": {},
   "outputs": [],
   "source": [
    "wine.feature_names"
   ]
  },
  {
   "cell_type": "markdown",
   "id": "ba7be381-1042-4c57-8098-a2d9a5454b99",
   "metadata": {},
   "source": [
    "## Target feature"
   ]
  },
  {
   "cell_type": "code",
   "execution_count": null,
   "id": "e78c505a-44f1-4308-b3ff-0b2afbe20eb3",
   "metadata": {},
   "outputs": [],
   "source": [
    "wine.target_names"
   ]
  },
  {
   "cell_type": "markdown",
   "id": "7e5f4b7f-ea1d-4a75-9b4a-2dbf07369d11",
   "metadata": {},
   "source": [
    "## Verify number of records"
   ]
  },
  {
   "cell_type": "code",
   "execution_count": null,
   "id": "4cfbd7dc-e706-49d4-a378-886ab5c5b500",
   "metadata": {},
   "outputs": [],
   "source": [
    "print(f\"Number of Input Records: {len(wine.data)}\")\n",
    "print(f\"Number of Target Records: {len(wine.target)}\")"
   ]
  },
  {
   "cell_type": "markdown",
   "id": "e09d4d89-2d11-4874-b9ea-fae4bcf7cadd",
   "metadata": {},
   "source": [
    "## Visulizing the dataset"
   ]
  },
  {
   "cell_type": "code",
   "execution_count": null,
   "id": "b70172d5-a6aa-4c39-82d4-dac313694225",
   "metadata": {},
   "outputs": [],
   "source": [
    "x = wine.data\n",
    "y = wine.target"
   ]
  },
  {
   "cell_type": "code",
   "execution_count": null,
   "id": "0b4c81ea-855d-4e70-a34d-3310ce410449",
   "metadata": {},
   "outputs": [],
   "source": [
    "plot.scatter(x[:, 0], x[:, 1], c=y, cmap=plot.cm.Set1, edgecolor=\"k\")\n",
    "plot.xlabel(wine.feature_names[0])\n",
    "plot.ylabel(wine.feature_names[1])\n",
    "plot.show()"
   ]
  },
  {
   "cell_type": "code",
   "execution_count": null,
   "id": "b84509c7-964e-49a1-9ca8-44c426bbd669",
   "metadata": {},
   "outputs": [],
   "source": [
    "def tmp(i,j):\n",
    "    if i != j:\n",
    "        plot.scatter(x[:, i], x[:, j], c=y, cmap=plot.cm.Set1, edgecolor=\"k\")\n",
    "        plot.xlabel(wine.feature_names[i])\n",
    "        plot.ylabel(wine.feature_names[j])\n",
    "        plot.show()\n",
    "\n",
    "for i in range(13):\n",
    "    for j in range(13):\n",
    "        tmp(i,j)\n"
   ]
  },
  {
   "cell_type": "code",
   "execution_count": null,
   "id": "9b99565c-e0ef-444e-9978-5048221b5b9b",
   "metadata": {},
   "outputs": [],
   "source": [
    "fig = plot.figure(figsize=(6, 6))\n",
    "ax = fig.add_subplot(projection=\"3d\")\n",
    "\n",
    "ax.scatter(x[:, 9], x[:, 6], x[:, 12], c=y, cmap=plot.cm.Set1, edgecolor=\"k\")\n",
    "ax.set_xlabel(wine.feature_names[9])\n",
    "ax.set_ylabel(wine.feature_names[6])\n",
    "ax.set_zlabel(wine.feature_names[12])\n",
    "plot.show()"
   ]
  },
  {
   "cell_type": "code",
   "execution_count": null,
   "id": "775c7e70-f9e5-41f1-a72f-079fd3e493e3",
   "metadata": {},
   "outputs": [],
   "source": [
    "fig = plot.figure(figsize=(6, 6))\n",
    "ax = fig.add_subplot(projection=\"3d\")\n",
    "\n",
    "ax.scatter(x[:, 0], x[:, 2], x[:, 3], c=y, cmap=plot.cm.Set1, edgecolor=\"k\")\n",
    "ax.set_xlabel(wine.feature_names[0])\n",
    "ax.set_ylabel(wine.feature_names[2])\n",
    "ax.set_zlabel(wine.feature_names[3])\n",
    "plot.show()"
   ]
  },
  {
   "cell_type": "markdown",
   "id": "335c769d-fed5-4b31-979f-834804212d0b",
   "metadata": {},
   "source": [
    "## Training"
   ]
  },
  {
   "cell_type": "code",
   "execution_count": null,
   "id": "1f8d5a4c-5e7a-4746-bc8f-2d42ba0e579d",
   "metadata": {},
   "outputs": [],
   "source": [
    "x = wine.data\n",
    "y = wine.target\n",
    "\n",
    "x_train, x_test, y_train, y_test = train_test_split(\n",
    "    x, y, train_size=0.7, random_state=12, stratify=y\n",
    ")"
   ]
  },
  {
   "cell_type": "code",
   "execution_count": null,
   "id": "f80b103a-f11f-4e59-ad05-0424b798707d",
   "metadata": {},
   "outputs": [],
   "source": [
    "print(f\"Number of Training Records (input): {len(x_train)}\")\n",
    "print(f\"Number of Training Records (target): {len(y_train)}\")\n",
    "\n",
    "print(f\"Number of Test Records (input): {len(x_test)}\")\n",
    "print(f\"Number of Test Records (input): {len(x_test)}\")"
   ]
  },
  {
   "cell_type": "markdown",
   "id": "7d570001-43e4-4ff1-a2e6-0d890dea6646",
   "metadata": {},
   "source": [
    "## Standardization of features "
   ]
  },
  {
   "cell_type": "code",
   "execution_count": null,
   "id": "36ddb242-9437-465b-a640-a07cc89be89b",
   "metadata": {},
   "outputs": [],
   "source": [
    "sc = StandardScaler()\n",
    "sc.fit(x_train)\n",
    "print(f\"Mean: {sc.mean_} \\nVariance={sc.var_}\")"
   ]
  },
  {
   "cell_type": "code",
   "execution_count": null,
   "id": "00a348ea-f617-48f3-b7bc-5746ef49c856",
   "metadata": {},
   "outputs": [],
   "source": [
    "x_train_std = sc.transform(x_train)\n",
    "x_test_std = sc.transform(x_test)"
   ]
  },
  {
   "cell_type": "code",
   "execution_count": null,
   "id": "a047af9f-a970-4397-81a5-718972c36238",
   "metadata": {},
   "outputs": [],
   "source": [
    "classifier = MLPClassifier(max_iter=1000, random_state=12)\n",
    "\n",
    "# training\n",
    "classifier.fit(x_train_std, y_train)"
   ]
  },
  {
   "cell_type": "markdown",
   "id": "c575825a-8be8-4e5d-bc43-13ff5d5f5f79",
   "metadata": {},
   "source": [
    "## Classification report"
   ]
  },
  {
   "cell_type": "code",
   "execution_count": null,
   "id": "cbd6fb99-b91f-483d-8923-08301664a1db",
   "metadata": {},
   "outputs": [],
   "source": [
    "predicted_target = classifier.predict(x_test_std)\n",
    "\n",
    "# classification report\n",
    "print(metrics.classification_report(y_test, predicted_target))"
   ]
  },
  {
   "cell_type": "markdown",
   "id": "a65193f4-3b33-4576-bbbc-22dc14a56120",
   "metadata": {},
   "source": [
    "## Confusion matrix"
   ]
  },
  {
   "cell_type": "code",
   "execution_count": null,
   "id": "a85e0a5a-c553-40af-a330-51c24603332f",
   "metadata": {},
   "outputs": [],
   "source": [
    "cm = confusion_matrix(y_test, predicted_target, normalize=\"pred\")\n",
    "disp = ConfusionMatrixDisplay(confusion_matrix=cm, display_labels=wine.target_names)\n",
    "disp.plot(cmap=plot.cm.Blues)"
   ]
  },
  {
   "cell_type": "code",
   "execution_count": null,
   "id": "9cf1c258-668c-4de6-ac0d-3c72df7d9e9a",
   "metadata": {},
   "outputs": [],
   "source": [
    "cm = confusion_matrix(y_test, predicted_target, normalize=\"true\")\n",
    "disp = ConfusionMatrixDisplay(confusion_matrix=cm, display_labels=wine.target_names)\n",
    "disp.plot(cmap=plot.cm.Blues)"
   ]
  },
  {
   "cell_type": "markdown",
   "id": "c639b58b-a59a-4359-a28c-64226330e238",
   "metadata": {},
   "source": [
    "## References\n",
    "\n",
    "- [The Iris Dataset](https://scikit-learn.org/stable/auto_examples/datasets/plot_iris_dataset.html)\n",
    "- [3D scatterplot](https://matplotlib.org/stable/gallery/mplot3d/scatter3d.html)\n",
    "- [sklearn.preprocessing.StandardScaler](https://scikit-learn.org/stable/modules/generated/sklearn.preprocessing.StandardScaler.html)\n",
    "- [sklearn.model_selection.train_test_split](https://scikit-learn.org/stable/modules/generated/sklearn.model_selection.train_test_split.html)\n",
    "- [Iris classification with sklearn perceptron](https://www.kaggle.com/code/choihanbin/iris-classification-with-sklearn-perceptron)\n",
    "- [plot_confusion_matrix without estimator](https://stackoverflow.com/questions/60776749/plot-confusion-matrix-without-estimator)\n",
    "- [sklearn.neural_network.MLPClassifier](https://scikit-learn.org/stable/modules/generated/sklearn.neural_network.MLPClassifier.html)"
   ]
  }
 ],
 "metadata": {
  "kernelspec": {
   "display_name": "Python 3",
   "language": "python",
   "name": "python3"
  },
  "language_info": {
   "codemirror_mode": {
    "name": "ipython",
    "version": 3
   },
   "file_extension": ".py",
   "mimetype": "text/x-python",
   "name": "python",
   "nbconvert_exporter": "python",
   "pygments_lexer": "ipython3",
   "version": "3.10.6"
  }
 },
 "nbformat": 4,
 "nbformat_minor": 5
}
