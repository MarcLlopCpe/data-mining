{
 "cells": [
  {
   "cell_type": "markdown",
   "source": [
    "# IMPORT DES DONNÉES"
   ],
   "metadata": {
    "collapsed": false
   }
  },
  {
   "cell_type": "markdown",
   "source": [
    "## Déclaration de fonction utilitaire pour le téléchargement et prétraitement des données"
   ],
   "metadata": {
    "collapsed": false
   }
  },
  {
   "cell_type": "code",
   "execution_count": 69,
   "outputs": [],
   "source": [
    "import requests\n",
    "import shutil\n",
    "import pandas as pd\n",
    "from SPARQLWrapper import SPARQLWrapper, JSON\n",
    "\n",
    "endpoint_url = \"https://query.wikidata.org/sparql\"\n",
    "user_agent = \"Mozilla/5.0\"\n",
    "\n",
    "PROJECT_DATA_DIR = \"../../data/projet\"\n",
    "SUB_DATA_DIR = \"/import\"\n",
    "\n",
    "def download_images(row):\n",
    "    url, save_path = row[\"origin_path\"], row[\"local_path\"]\n",
    "    headers = {\n",
    "        \"User-Agent\": \"Mozilla/5.0\",\n",
    "    }\n",
    "\n",
    "    if not save_path:\n",
    "        save_path = os.path.basename(url)\n",
    "\n",
    "    request = requests.get(url, allow_redirects=True, headers=headers, stream=True)\n",
    "\n",
    "    if request.status_code != 200:\n",
    "        print(f\"Erreur lors du téléchargement des images {request.status_code}\")\n",
    "    else:\n",
    "        with open(save_path, \"wb\") as image:\n",
    "            request.raw.decode_content = True\n",
    "\n",
    "            shutil.copyfileobj(request.raw, image)\n",
    "            print(\"> Image sauvegardé :\", save_path)\n",
    "    print(\"Téléchargement de l'image :\", row[\"local_path\"])\n",
    "\n",
    "\n",
    "def format_data(raw_data):\n",
    "    def format_import_data_path(image_id):\n",
    "        return f\"{PROJECT_DATA_DIR}{SUB_DATA_DIR}/images/{image_id}.jpg\"\n",
    "\n",
    "    def date_converter(string_date):\n",
    "        year, month, day = tuple(string_date.split(\"T\")[0].split('-'))\n",
    "        return date(year=int(year), month=int(month), day=int(day))\n",
    "\n",
    "    ret: [] = []\n",
    "    last_row = {}\n",
    "    i = 0\n",
    "    for row in raw_data:\n",
    "        if row[\"image\"][\"value\"].endswith(\"jpg\") or row[\"image\"][\"value\"].endswith(\"jpeg\"):\n",
    "            try:\n",
    "                new_row = {\n",
    "                    \"titre\": row[\"peintureLabel\"][\"value\"],\n",
    "                    \"date\": date_converter(row[\"inceptionLabel\"][\"value\"]),\n",
    "                    \"createur\": row[\"createurLabel\"][\"value\"],\n",
    "                    \"location\": row[\"locationLabel\"][\"value\"],\n",
    "                    \"origin_path\": row[\"image\"][\"value\"]\n",
    "                }\n",
    "\n",
    "                is_new = True\n",
    "\n",
    "                for key in new_row.keys():\n",
    "                    if new_row[key] == last_row.get(key, \"\"):\n",
    "                        is_new = False\n",
    "\n",
    "                if is_new:\n",
    "                    ret.append(\n",
    "                        new_row\n",
    "                    )\n",
    "                    new_row[\"local_path\"] = format_import_data_path(i)\n",
    "                    i += 1\n",
    "\n",
    "                    last_row = new_row\n",
    "\n",
    "            except ValueError as e:\n",
    "                pass\n",
    "\n",
    "    return ret\n",
    "\n",
    "def get_wikidata_paintings(n = 2500):\n",
    "    def get_results(endpoint_url, query):\n",
    "        sparql = SPARQLWrapper(endpoint_url, agent=user_agent)\n",
    "        sparql.setQuery(query)\n",
    "        sparql.setReturnFormat(JSON)\n",
    "        return sparql.query().convert()\n",
    "    return get_results(endpoint_url, \"\"\"\n",
    "    SELECT DISTINCT ?peintureLabel ?createurLabel  ?inceptionLabel ?locationLabel ?image WHERE {\n",
    "      ?peinture wdt:P31 wd:Q11060274;\n",
    "        wdt:P170 ?createur;\n",
    "        wdt:P276 ?location;\n",
    "        wdt:P571 ?inception;\n",
    "        wdt:P18 ?image.\n",
    "      SERVICE wikibase:label { bd:serviceParam wikibase:language \"fr\". }\n",
    "    }\n",
    "    ORDER BY DESC(?peintureLabel)\n",
    "    LIMIT\"\"\" + str(n))[\"results\"][\"bindings\"]"
   ],
   "metadata": {
    "collapsed": false
   }
  },
  {
   "cell_type": "markdown",
   "source": [
    "## Importation des données"
   ],
   "metadata": {
    "collapsed": false
   }
  },
  {
   "cell_type": "code",
   "execution_count": 70,
   "outputs": [
    {
     "data": {
      "text/plain": "                                                 titre        date  \\\n0                                            Épilation  1701-01-01   \n1    « Le Seuil », de Venise, série de douze eaux-f...  1879-01-01   \n2        vue de l'entrée de la rivière de Sierra-Leone  1776-01-01   \n3                              le chateau de Carnarvon  1775-01-01   \n4          chevet de l'église Saint-Martin-sur-Renelle  1860-01-01   \n..                                                 ...         ...   \n302                                          Q98209359  1569-01-01   \n303                                          Q98209153  1564-01-01   \n304                                          Q98209143  1569-01-01   \n305                                          Q98209131  1566-01-01   \n306                                          Q98209125  1563-01-01   \n\n                                              createur  \\\n0    http://www.wikidata.org/.well-known/genid/589b...   \n1                        James Abbott McNeill Whistler   \n2                                 Nicolas-Marie Ozanne   \n3                                        William Byrne   \n4                                       Charles Meryon   \n..                                                 ...   \n302                             Maarten van Heemskerck   \n303                                     Philippe Galle   \n304                             Maarten van Heemskerck   \n305                                     Philippe Galle   \n306                             Maarten van Heemskerck   \n\n                                              location  \\\n0                                     musée Carnavalet   \n1                           Metropolitan Museum of Art   \n2                     Bibliothèque nationale de France   \n3             Bibliothèque nationale du pays de Galles   \n4                              National Gallery of Art   \n..                                                 ...   \n302  Cabinet des Estampes de la Bibliothèque royale...   \n303                                                KBR   \n304  Cabinet des Estampes de la Bibliothèque royale...   \n305                                                KBR   \n306  Cabinet des Estampes de la Bibliothèque royale...   \n\n                                           origin_path  \\\n0    http://commons.wikimedia.org/wiki/Special:File...   \n1    http://commons.wikimedia.org/wiki/Special:File...   \n2    http://commons.wikimedia.org/wiki/Special:File...   \n3    http://commons.wikimedia.org/wiki/Special:File...   \n4    http://commons.wikimedia.org/wiki/Special:File...   \n..                                                 ...   \n302  http://commons.wikimedia.org/wiki/Special:File...   \n303  http://commons.wikimedia.org/wiki/Special:File...   \n304  http://commons.wikimedia.org/wiki/Special:File...   \n305  http://commons.wikimedia.org/wiki/Special:File...   \n306  http://commons.wikimedia.org/wiki/Special:File...   \n\n                                  local_path  \n0      ../../data/projet/import/images/0.jpg  \n1      ../../data/projet/import/images/1.jpg  \n2      ../../data/projet/import/images/2.jpg  \n3      ../../data/projet/import/images/3.jpg  \n4      ../../data/projet/import/images/4.jpg  \n..                                       ...  \n302  ../../data/projet/import/images/302.jpg  \n303  ../../data/projet/import/images/303.jpg  \n304  ../../data/projet/import/images/304.jpg  \n305  ../../data/projet/import/images/305.jpg  \n306  ../../data/projet/import/images/306.jpg  \n\n[307 rows x 6 columns]",
      "text/html": "<div>\n<style scoped>\n    .dataframe tbody tr th:only-of-type {\n        vertical-align: middle;\n    }\n\n    .dataframe tbody tr th {\n        vertical-align: top;\n    }\n\n    .dataframe thead th {\n        text-align: right;\n    }\n</style>\n<table border=\"1\" class=\"dataframe\">\n  <thead>\n    <tr style=\"text-align: right;\">\n      <th></th>\n      <th>titre</th>\n      <th>date</th>\n      <th>createur</th>\n      <th>location</th>\n      <th>origin_path</th>\n      <th>local_path</th>\n    </tr>\n  </thead>\n  <tbody>\n    <tr>\n      <th>0</th>\n      <td>Épilation</td>\n      <td>1701-01-01</td>\n      <td>http://www.wikidata.org/.well-known/genid/589b...</td>\n      <td>musée Carnavalet</td>\n      <td>http://commons.wikimedia.org/wiki/Special:File...</td>\n      <td>../../data/projet/import/images/0.jpg</td>\n    </tr>\n    <tr>\n      <th>1</th>\n      <td>« Le Seuil », de Venise, série de douze eaux-f...</td>\n      <td>1879-01-01</td>\n      <td>James Abbott McNeill Whistler</td>\n      <td>Metropolitan Museum of Art</td>\n      <td>http://commons.wikimedia.org/wiki/Special:File...</td>\n      <td>../../data/projet/import/images/1.jpg</td>\n    </tr>\n    <tr>\n      <th>2</th>\n      <td>vue de l'entrée de la rivière de Sierra-Leone</td>\n      <td>1776-01-01</td>\n      <td>Nicolas-Marie Ozanne</td>\n      <td>Bibliothèque nationale de France</td>\n      <td>http://commons.wikimedia.org/wiki/Special:File...</td>\n      <td>../../data/projet/import/images/2.jpg</td>\n    </tr>\n    <tr>\n      <th>3</th>\n      <td>le chateau de Carnarvon</td>\n      <td>1775-01-01</td>\n      <td>William Byrne</td>\n      <td>Bibliothèque nationale du pays de Galles</td>\n      <td>http://commons.wikimedia.org/wiki/Special:File...</td>\n      <td>../../data/projet/import/images/3.jpg</td>\n    </tr>\n    <tr>\n      <th>4</th>\n      <td>chevet de l'église Saint-Martin-sur-Renelle</td>\n      <td>1860-01-01</td>\n      <td>Charles Meryon</td>\n      <td>National Gallery of Art</td>\n      <td>http://commons.wikimedia.org/wiki/Special:File...</td>\n      <td>../../data/projet/import/images/4.jpg</td>\n    </tr>\n    <tr>\n      <th>...</th>\n      <td>...</td>\n      <td>...</td>\n      <td>...</td>\n      <td>...</td>\n      <td>...</td>\n      <td>...</td>\n    </tr>\n    <tr>\n      <th>302</th>\n      <td>Q98209359</td>\n      <td>1569-01-01</td>\n      <td>Maarten van Heemskerck</td>\n      <td>Cabinet des Estampes de la Bibliothèque royale...</td>\n      <td>http://commons.wikimedia.org/wiki/Special:File...</td>\n      <td>../../data/projet/import/images/302.jpg</td>\n    </tr>\n    <tr>\n      <th>303</th>\n      <td>Q98209153</td>\n      <td>1564-01-01</td>\n      <td>Philippe Galle</td>\n      <td>KBR</td>\n      <td>http://commons.wikimedia.org/wiki/Special:File...</td>\n      <td>../../data/projet/import/images/303.jpg</td>\n    </tr>\n    <tr>\n      <th>304</th>\n      <td>Q98209143</td>\n      <td>1569-01-01</td>\n      <td>Maarten van Heemskerck</td>\n      <td>Cabinet des Estampes de la Bibliothèque royale...</td>\n      <td>http://commons.wikimedia.org/wiki/Special:File...</td>\n      <td>../../data/projet/import/images/304.jpg</td>\n    </tr>\n    <tr>\n      <th>305</th>\n      <td>Q98209131</td>\n      <td>1566-01-01</td>\n      <td>Philippe Galle</td>\n      <td>KBR</td>\n      <td>http://commons.wikimedia.org/wiki/Special:File...</td>\n      <td>../../data/projet/import/images/305.jpg</td>\n    </tr>\n    <tr>\n      <th>306</th>\n      <td>Q98209125</td>\n      <td>1563-01-01</td>\n      <td>Maarten van Heemskerck</td>\n      <td>Cabinet des Estampes de la Bibliothèque royale...</td>\n      <td>http://commons.wikimedia.org/wiki/Special:File...</td>\n      <td>../../data/projet/import/images/306.jpg</td>\n    </tr>\n  </tbody>\n</table>\n<p>307 rows × 6 columns</p>\n</div>"
     },
     "execution_count": 70,
     "metadata": {},
     "output_type": "execute_result"
    }
   ],
   "source": [
    "from pandas import json_normalize\n",
    "\n",
    "raw_data = get_wikidata_paintings()\n",
    "\n",
    "data_dict = format_data(raw_data)\n",
    "\n",
    "dataframe = json_normalize(data_dict)\n",
    "\n",
    "dataframe.reset_index()\n",
    "\n",
    "dataframe.apply(download_images, axis=1)\n",
    "\n",
    "dataframe.to_json(f\"{PROJECT_DATA_DIR}{SUB_DATA_DIR}/data.json\", orient=\"index\")\n",
    "\n",
    "dataframe"
   ],
   "metadata": {
    "collapsed": false
   }
  },
  {
   "cell_type": "markdown",
   "source": [
    "## Lecture du json en dataframe"
   ],
   "metadata": {
    "collapsed": false
   }
  },
  {
   "cell_type": "code",
   "execution_count": 0,
   "outputs": [],
   "source": [
    "from datetime import date\n",
    "\n",
    "dataframe = pd.read_json(f\"{PROJECT_DATA_DIR}{SUB_DATA_DIR}/data.json\", orient=\"index\")\n",
    "\n",
    "dataframe.date = pd.to_datetime(dataframe.date, unit=\"ms\").apply(lambda x: x.date()) # obligé de faire l'import en 2 étapes pour la date, car panda n'a pas de fonction `to_date()`\n",
    "\n",
    "dataframe"
   ],
   "metadata": {
    "collapsed": false
   }
  },
  {
   "cell_type": "markdown",
   "source": [
    "## DETERMINATION DE LA COULEUR PRÉDOMINANTE SUR 1 IMAGE"
   ],
   "metadata": {
    "collapsed": false
   }
  },
  {
   "cell_type": "code",
   "execution_count": null,
   "outputs": [],
   "source": [
    "#######  #######\n",
    "import numpy as np\n",
    "import cv2\n",
    "from sklearn.cluster import KMeans\n",
    "import matplotlib.pyplot as plt\n",
    "\n",
    "# Charger l'image\n",
    "img = cv2.imread('../../data/projet/import/images/8.jpg')\n",
    "\n",
    "# Convertir l'image en matrice de pixels\n",
    "pixels = np.float32(img.reshape(-1, 3))\n",
    "print(pixels)\n",
    "# Appliquer K-means avec 2 clusters\n",
    "kmeans = KMeans(n_clusters=2, n_init=10).fit(pixels)\n",
    "print(\"kmeans :\", kmeans)\n",
    "# Obtenir les centroids des clusters\n",
    "centroids = kmeans.cluster_centers_\n",
    "print(\"Centroids :\", centroids)\n",
    "# Déterminer la couleur prédominante\n",
    "predominant_color = np.uint8(centroids[0])\n",
    "print(\"Couleur prédominante :\", predominant_color)\n",
    "# Afficher la couleur prédominante sur l'image\n",
    "plt.imshow([[(predominant_color / 255)]])\n",
    "plt.show()"
   ],
   "metadata": {
    "collapsed": false
   }
  },
  {
   "cell_type": "markdown",
   "source": [
    "## DETERMINATION DE LA COULEUR PRÉDOMINANTE SUR TOUTES LES IMAGES"
   ],
   "metadata": {
    "collapsed": false
   }
  },
  {
   "cell_type": "code",
   "execution_count": 0,
   "outputs": [],
   "source": [
    "import numpy as np\n",
    "import cv2\n",
    "from sklearn.cluster import KMeans\n",
    "\n",
    "import matplotlib.pyplot as plt\n",
    "import os\n",
    "import swifter\n",
    "\n",
    "\n",
    "def func(row):\n",
    "    img = cv2.imread(row.local_path)\n",
    "\n",
    "    # Convertir l'image en matrice de pixels\n",
    "    pixels = np.float32(img.reshape(-1, 3))\n",
    "\n",
    "    # Appliquer K-means avec 2 clusters\n",
    "    kmeans = KMeans(n_clusters=2, n_init=10).fit(pixels)\n",
    "\n",
    "    # Obtenir les centroids des clusters\n",
    "    centroids = kmeans.cluster_centers_\n",
    "\n",
    "    # Déterminer la couleur prédominante\n",
    "    predominant_color = np.uint8(centroids[0])\n",
    "    print(\"Couleur prédominante :\", img, predominant_color)\n",
    "    return predominant_color\n",
    "\n",
    "\n",
    "clusters = dataframe.swifter.apply(func, axis=1)\n",
    "\n",
    "\n",
    "# Afficher la couleur prédominante sur l'image\n",
    "# plt.imshow([[(predominant_color / 255)]])\n",
    "# plt.show()"
   ],
   "metadata": {
    "collapsed": false
   }
  },
  {
   "cell_type": "markdown",
   "source": [
    "## CLUSTERING DES IMAGES EN FONCTION DE LA COULEUR PRÉDOMINANTE"
   ],
   "metadata": {
    "collapsed": false
   }
  },
  {
   "cell_type": "code",
   "execution_count": null,
   "outputs": [],
   "source": [
    "import numpy as np\n",
    "import cv2\n",
    "from sklearn.cluster import KMeans\n",
    "\n",
    "# Charger les images\n",
    "images = ['../../data/projet/import/images/1.jpg', '../../data/projet/import/images/2.jpg',\n",
    "          '../../data/projet/import/images/3.jpg']\n",
    "\n",
    "# Créer une liste pour stocker les couleurs prédominantes de chaque image\n",
    "predominant_colors = []\n",
    "\n",
    "for image in images:\n",
    "    # Charger l'image\n",
    "    img = cv2.imread(image)\n",
    "\n",
    "    # Convertir l'image en matrice de pixels\n",
    "    pixels = np.float32(img.reshape(-1, 3))\n",
    "\n",
    "    # Appliquer K-means avec 2 clusters\n",
    "    kmeans = KMeans(n_clusters=2, n_init=10).fit(pixels)\n",
    "\n",
    "    # Obtenir les centroids des clusters\n",
    "    centroids = kmeans.cluster_centers_\n",
    "\n",
    "    # Déterminer la couleur prédominante\n",
    "    predominant_color = np.uint8(centroids[0])\n",
    "\n",
    "    # Ajouter la couleur prédominante à la liste\n",
    "    predominant_colors.append(predominant_color)\n",
    "\n",
    "# Convertir la liste en tableau numpy\n",
    "predominant_colors = np.array(predominant_colors)\n",
    "\n",
    "# Appliquer K-means avec 2 clusters sur les couleurs prédominantes\n",
    "kmeans = KMeans(n_clusters=2).fit(predominant_colors)\n",
    "\n",
    "# Obtenir les labels de cluster pour chaque couleur prédominante\n",
    "cluster_labels = kmeans.labels_\n",
    "\n",
    "# Imprimer les labels de cluster pour chaque image\n",
    "for i, image in enumerate(images):\n",
    "    print(\"L'image {} appartient au cluster {}\".format(image, cluster_labels[i]))"
   ],
   "metadata": {
    "collapsed": false
   }
  }
 ],
 "metadata": {
  "kernelspec": {
   "display_name": "Python 3",
   "language": "python",
   "name": "python3"
  },
  "language_info": {
   "codemirror_mode": {
    "name": "ipython",
    "version": 2
   },
   "file_extension": ".py",
   "mimetype": "text/x-python",
   "name": "python",
   "nbconvert_exporter": "python",
   "pygments_lexer": "ipython2",
   "version": "2.7.6"
  }
 },
 "nbformat": 4,
 "nbformat_minor": 0
}
