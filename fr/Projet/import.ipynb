{
 "cells": [
  {
   "cell_type": "markdown",
   "source": [
    "# IMPORT DES DONNÉES"
   ],
   "metadata": {
    "collapsed": false
   }
  },
  {
   "cell_type": "code",
   "execution_count": 69,
   "outputs": [],
   "source": [
    "import requests\n",
    "import shutil\n",
    "import os\n",
    "from PIL import Image\n",
    "import PIL.ExifTags\n",
    "import pandas as pd\n",
    "import sys\n",
    "import json\n",
    "from SPARQLWrapper import SPARQLWrapper, JSON\n",
    "\n",
    "endpoint_url = \"https://query.wikidata.org/sparql\"\n",
    "\n",
    "# Get cities\n",
    "\n",
    "user_agent = \"Mozilla/5.0\"\n",
    "\n",
    "PROJECT_DATA_DIR = \"../../data/projet\"\n",
    "SUB_DATA_DIR = \"/import\"\n",
    "\n",
    "\n",
    "def get_exif(img_path: str):\n",
    "    img = PIL.Image.open(img_path)\n",
    "    if img._getexif() is None:\n",
    "        return {}\n",
    "\n",
    "\n",
    "    return {\n",
    "        PIL.ExifTags.TAGS[k]: v\n",
    "        for k, v in img._getexif().items()\n",
    "        if k in PIL.ExifTags.TAGS\n",
    "    }\n",
    "\n",
    "\n",
    "def merge_metadata(row):\n",
    "    metadata = get_exif(row[\"local_path\"])\n",
    "\n",
    "    ret = {\"have_exif\": len(metadata) != 0}\n",
    "\n",
    "    print(ret)\n",
    "\n",
    "    if ret[\"have_exif\"]:\n",
    "        ret[\"orientation\"] = metadata.get(\"Orientation\")\n",
    "\n",
    "    return ret\n",
    "\n",
    "\n",
    "def format_import_data_path(image_id):\n",
    "    return f\"{PROJECT_DATA_DIR}{SUB_DATA_DIR}/images/{image_id}.jpg\"\n",
    "\n",
    "\n",
    "def get_results(endpoint_url, query):\n",
    "    sparql = SPARQLWrapper(endpoint_url, agent=user_agent)\n",
    "    sparql.setQuery(query)\n",
    "    sparql.setReturnFormat(JSON)\n",
    "    return sparql.query().convert()\n",
    "\n",
    "\n",
    "def download_images(row):\n",
    "    print(type(row))\n",
    "\n",
    "    def download_image(url, save_path=None):\n",
    "        headers = {\n",
    "            \"User-Agent\": \"Mozilla/5.0\",\n",
    "        }\n",
    "\n",
    "        if not save_path:\n",
    "            save_path = os.path.basename(url)\n",
    "\n",
    "        request = requests.get(url, allow_redirects=True, headers=headers, stream=True)\n",
    "\n",
    "        if request.status_code != 200:\n",
    "            print(f\"Erreur lors du téléchargement des images {request.status_code}\")\n",
    "        else:\n",
    "            with open(save_path, \"wb\") as image:\n",
    "                request.raw.decode_content = True\n",
    "\n",
    "                shutil.copyfileobj(request.raw, image)\n",
    "                print(\"> Image sauvegardé :\", save_path)\n",
    "\n",
    "        return request.status_code\n",
    "\n",
    "    ret = []\n",
    "\n",
    "    print(\"Téléchargement de l'image :\", row[\"local_path\"])\n",
    "    download_image(row[\"origin_path\"], row[\"local_path\"])\n",
    "\n",
    "\n",
    "def conv(x):\n",
    "    year, month, day = tuple(x.split(\"T\")[0].split('-'))\n",
    "    return pd.Period(year=int(year), month=int(month), day=int(day), freq=\"D\")\n",
    "\n",
    "\n",
    "def format_cities_data(raw_data):\n",
    "    ret: [] = []\n",
    "    last_row = {}\n",
    "    i = 0\n",
    "    for row in raw_data:\n",
    "        if row[\"image\"][\"value\"].endswith(\"jpg\") or row[\"image\"][\"value\"].endswith(\"jpeg\"):\n",
    "            try:\n",
    "                new_row = {\n",
    "                    \"titre\": row[\"peintureLabel\"][\"value\"],\n",
    "                    \"date\": conv(row[\"inceptionLabel\"][\"value\"]),\n",
    "                    \"createur\": row[\"createurLabel\"][\"value\"],\n",
    "                    \"location\": row[\"locationLabel\"][\"value\"],\n",
    "                    \"origin_path\": row[\"image\"][\"value\"]\n",
    "                }\n",
    "\n",
    "                is_new = True\n",
    "\n",
    "                for key in new_row.keys():\n",
    "                    if new_row[key] == last_row.get(key, \"\"):\n",
    "                        is_new = False\n",
    "\n",
    "                if is_new:\n",
    "                    ret.append(\n",
    "                        new_row\n",
    "                    )\n",
    "                    new_row[\"local_path\"] = format_import_data_path(i)\n",
    "                    i += 1\n",
    "\n",
    "                    last_row = new_row\n",
    "\n",
    "            except ValueError as e:\n",
    "                pass\n",
    "\n",
    "    return ret"
   ],
   "metadata": {
    "collapsed": false
   }
  },
  {
   "cell_type": "code",
   "execution_count": 84,
   "outputs": [],
   "source": [
    "results = get_results(endpoint_url, \"\"\"\n",
    "    SELECT DISTINCT ?peintureLabel ?createurLabel  ?inceptionLabel ?locationLabel ?image WHERE {\n",
    "      ?peinture wdt:P31 wd:Q11060274;\n",
    "        wdt:P170 ?createur;\n",
    "        wdt:P276 ?location;\n",
    "        wdt:P571 ?inception;\n",
    "        wdt:P18 ?image.\n",
    "      SERVICE wikibase:label { bd:serviceParam wikibase:language \"fr\". }\n",
    "    }\n",
    "    ORDER BY DESC(?peintureLabel)\n",
    "    LIMIT 2500\n",
    "\"\"\")"
   ],
   "metadata": {
    "collapsed": false
   }
  },
  {
   "cell_type": "code",
   "execution_count": 90,
   "outputs": [],
   "source": [
    "from pandas import json_normalize\n",
    "\n",
    "raw_data = results[\"results\"][\"bindings\"]\n",
    "\n",
    "data_dict = format_cities_data(raw_data)\n",
    "\n",
    "dataframe = json_normalize(data_dict)\n",
    "\n",
    "dataframe = dataframe.astype(\n",
    "    dtype={\"titre\": \"<U200\", \"date\": pd.PeriodDtype.type()}\n",
    ")\n",
    "\n",
    "dataframe.reset_index()\n",
    "\n",
    "# dataframe.apply(download_images, axis=1)\n",
    "# tmp = dataframe.apply(merge_metadata, axis=1)\n",
    "\n",
    "# merge_metadata(data_dict)\n",
    "# dataframe.apply(download_images, axis=1)\n",
    "\n",
    "dataframe.to_json(f\"{PROJECT_DATA_DIR}{SUB_DATA_DIR}/data.json\",orient=\"index\")\n",
    "# print(res)"
   ],
   "metadata": {
    "collapsed": false
   }
  },
  {
   "cell_type": "code",
   "execution_count": 87,
   "outputs": [
    {
     "data": {
      "text/plain": "0         {'have_exif': True, 'orientation': 1}\n1                          {'have_exif': False}\n2                          {'have_exif': False}\n3                          {'have_exif': False}\n4                          {'have_exif': False}\n                         ...                   \n301    {'have_exif': True, 'orientation': None}\n302    {'have_exif': True, 'orientation': None}\n303    {'have_exif': True, 'orientation': None}\n304    {'have_exif': True, 'orientation': None}\n305    {'have_exif': True, 'orientation': None}\nLength: 306, dtype: object"
     },
     "execution_count": 87,
     "metadata": {},
     "output_type": "execute_result"
    }
   ],
   "source": [],
   "metadata": {
    "collapsed": false
   }
  },
  {
   "cell_type": "code",
   "execution_count": null,
   "outputs": [],
   "source": [],
   "metadata": {
    "collapsed": false
   }
  }
 ],
 "metadata": {
  "kernelspec": {
   "display_name": "Python 3",
   "language": "python",
   "name": "python3"
  },
  "language_info": {
   "codemirror_mode": {
    "name": "ipython",
    "version": 2
   },
   "file_extension": ".py",
   "mimetype": "text/x-python",
   "name": "python",
   "nbconvert_exporter": "python",
   "pygments_lexer": "ipython2",
   "version": "2.7.6"
  }
 },
 "nbformat": 4,
 "nbformat_minor": 0
}
