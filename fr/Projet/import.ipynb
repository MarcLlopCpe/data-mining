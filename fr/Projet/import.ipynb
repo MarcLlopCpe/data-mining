{
 "cells": [
  {
   "cell_type": "markdown",
   "source": [
    "# IMPORT DES DONNÉES"
   ],
   "metadata": {
    "collapsed": false
   }
  },
  {
   "cell_type": "code",
   "execution_count": null,
   "outputs": [],
   "source": [
    "import requests\n",
    "import shutil\n",
    "import os\n",
    "from PIL import Image\n",
    "import PIL.ExifTags\n",
    "import pandas as pd\n",
    "import sys\n",
    "import json\n",
    "from SPARQLWrapper import SPARQLWrapper, JSON\n",
    "\n",
    "endpoint_url = \"https://query.wikidata.org/sparql\"\n",
    "\n",
    "# Get cities\n",
    "\n",
    "user_agent = \"Mozilla/5.0\"\n",
    "\n",
    "PROJECT_DATA_DIR = \"../../data/projet\"\n",
    "SUB_DATA_DIR = \"/import\"\n",
    "\n",
    "\n",
    "def get_exif(img_path: str):\n",
    "    img = PIL.Image.open(img_path)\n",
    "    return {\n",
    "        PIL.ExifTags.TAGS[k]: v\n",
    "        for k, v in img._getexif().items()\n",
    "        if k in PIL.ExifTags.TAGS\n",
    "    }\n",
    "\n",
    "\n",
    "def merge_metadata(data):\n",
    "    for i in range(len(data)):\n",
    "        metadata = get_exif(data[i][\"path\"])\n",
    "\n",
    "        data[i][\"have_exif\"] = len(metadata) != 0\n",
    "\n",
    "        if data[i][\"have_exif\"]:\n",
    "            data[i] = data[i] | metadata\n",
    "\n",
    "\n",
    "def format_import_data_path(image_id):\n",
    "    return f\"{PROJECT_DATA_DIR}{SUB_DATA_DIR}/images/{image_id}.jpg\"\n",
    "\n",
    "\n",
    "def get_results(endpoint_url, query):\n",
    "    sparql = SPARQLWrapper(endpoint_url, agent=user_agent)\n",
    "    sparql.setQuery(query)\n",
    "    sparql.setReturnFormat(JSON)\n",
    "    return sparql.query().convert()\n",
    "\n",
    "\n",
    "def download_images(row):\n",
    "    def download_image(url, save_path=None):\n",
    "        headers = {\n",
    "            \"User-Agent\": \"Mozilla/5.0\",\n",
    "        }\n",
    "\n",
    "        if not save_path:\n",
    "            save_path = os.path.basename(url)\n",
    "\n",
    "        request = requests.get(url, allow_redirects=True, headers=headers, stream=True)\n",
    "\n",
    "        if request.status_code != 200:\n",
    "            print(f\"Erreur lors du téléchargement des images {request.status_code}\")\n",
    "        else:\n",
    "            with open(save_path, \"wb\") as image:\n",
    "                request.raw.decode_content = True\n",
    "\n",
    "                shutil.copyfileobj(request.raw, image)\n",
    "                print(\"> Image sauvegardé :\", save_path)\n",
    "\n",
    "        return request.status_code\n",
    "\n",
    "    ret = []\n",
    "\n",
    "    print(\"Téléchargement de l'image :\", row[\"path\"])\n",
    "    download_image(row[\"path\"], format_import_data_path(i))\n",
    "\n",
    "    return ret\n",
    "\n",
    "\n",
    "def conv(x):\n",
    "    year,month,day = tuple(x.split(\"T\")[0].split('-'))\n",
    "    return pd.Period(year=int(year), month=int(month), day=int(day), freq=\"D\")\n",
    "\n",
    "\n",
    "def format_cities_data(row):\n",
    "    ret: [] = []\n",
    "    for i, row in enumerate(raw_data):\n",
    "        if row[\"image\"][\"value\"].endswith(\"jpg\") or row[\"image\"][\"value\"].endswith(\"jpeg\"):\n",
    "            try:\n",
    "                d = conv(row[\"inceptionLabel\"][\"value\"])\n",
    "\n",
    "                ret.append(\n",
    "                    {\n",
    "                        \"titre\": row[\"peintureLabel\"][\"value\"],\n",
    "                        \"date\": d ,\n",
    "                        \"createur\": row[\"createurLabel\"][\"value\"],\n",
    "                        \"location\": row[\"locationLabel\"][\"value\"],\n",
    "                        \"path\": format_import_data_path(i)\n",
    "                    }\n",
    "                )\n",
    "\n",
    "            except ValueError as e:\n",
    "                pass\n",
    "\n",
    "    return ret"
   ],
   "metadata": {
    "collapsed": false
   }
  },
  {
   "cell_type": "code",
   "execution_count": 8,
   "outputs": [],
   "source": [
    "results = get_results(endpoint_url, \"\"\"\n",
    "    SELECT DISTINCT ?peintureLabel ?createurLabel  ?inceptionLabel ?locationLabel ?image WHERE {\n",
    "      ?peinture wdt:P31 wd:Q11060274;\n",
    "        wdt:P170 ?createur;\n",
    "        wdt:P276 ?location;\n",
    "        wdt:P571 ?inception;\n",
    "        wdt:P18 ?image.\n",
    "      SERVICE wikibase:label { bd:serviceParam wikibase:language \"fr\". }\n",
    "    }\n",
    "    LIMIT 1500\n",
    "\"\"\")"
   ],
   "metadata": {
    "collapsed": false
   }
  },
  {
   "cell_type": "code",
   "execution_count": 21,
   "outputs": [
    {
     "name": "stdout",
     "output_type": "stream",
     "text": [
      "(titre                         Philippe Melanchton\n",
      "date                                   1526-01-01\n",
      "createur                           Albrecht Dürer\n",
      "location                  Cleveland Museum of Art\n",
      "            ../../data/projet/import/images/0.jpg\n",
      "path        ../../data/projet/import/images/0.jpg\n",
      "Name: 0, dtype: object,) {}\n"
     ]
    },
    {
     "ename": "NameError",
     "evalue": "name 'data_json' is not defined",
     "output_type": "error",
     "traceback": [
      "\u001B[0;31m---------------------------------------------------------------------------\u001B[0m",
      "\u001B[0;31mNameError\u001B[0m                                 Traceback (most recent call last)",
      "Cell \u001B[0;32mIn[21], line 15\u001B[0m\n\u001B[1;32m      9\u001B[0m dataframe \u001B[38;5;241m=\u001B[39m dataframe\u001B[38;5;241m.\u001B[39mastype(\n\u001B[1;32m     10\u001B[0m     dtype\u001B[38;5;241m=\u001B[39m{\u001B[38;5;124m\"\u001B[39m\u001B[38;5;124mtitre\u001B[39m\u001B[38;5;124m\"\u001B[39m: \u001B[38;5;124m\"\u001B[39m\u001B[38;5;124m<U200\u001B[39m\u001B[38;5;124m\"\u001B[39m, \u001B[38;5;124m\"\u001B[39m\u001B[38;5;124mdate\u001B[39m\u001B[38;5;124m\"\u001B[39m: pd\u001B[38;5;241m.\u001B[39mPeriodDtype\u001B[38;5;241m.\u001B[39mtype(), \u001B[38;5;124m\"\u001B[39m\u001B[38;5;124mcreateur\u001B[39m\u001B[38;5;124m\"\u001B[39m: \u001B[38;5;124m\"\u001B[39m\u001B[38;5;124m<U200\u001B[39m\u001B[38;5;124m\"\u001B[39m, \u001B[38;5;124m\"\u001B[39m\u001B[38;5;124mlocation\u001B[39m\u001B[38;5;124m\"\u001B[39m: \u001B[38;5;124m\"\u001B[39m\u001B[38;5;124m<U200\u001B[39m\u001B[38;5;124m\"\u001B[39m, \u001B[38;5;124m\"\u001B[39m\u001B[38;5;124mpath\u001B[39m\u001B[38;5;124m\"\u001B[39m: \u001B[38;5;124m\"\u001B[39m\u001B[38;5;124m<U200\u001B[39m\u001B[38;5;124m\"\u001B[39m}\n\u001B[1;32m     11\u001B[0m )\n\u001B[1;32m     13\u001B[0m dataframe\u001B[38;5;241m.\u001B[39mreset_index()\n\u001B[0;32m---> 15\u001B[0m \u001B[43mdataframe\u001B[49m\u001B[38;5;241;43m.\u001B[39;49m\u001B[43mapply\u001B[49m\u001B[43m(\u001B[49m\u001B[43mdownload_images\u001B[49m\u001B[43m,\u001B[49m\u001B[43maxis\u001B[49m\u001B[38;5;241;43m=\u001B[39;49m\u001B[38;5;241;43m1\u001B[39;49m\u001B[43m)\u001B[49m\n\u001B[1;32m     17\u001B[0m \u001B[38;5;66;03m# merge_metadata(res)\u001B[39;00m\n\u001B[1;32m     18\u001B[0m \u001B[38;5;66;03m# print(res)\u001B[39;00m\n\u001B[1;32m     19\u001B[0m dataframe\n",
      "File \u001B[0;32m~/DataspellProjects/MachineLearning/venv/lib64/python3.11/site-packages/pandas/core/frame.py:9568\u001B[0m, in \u001B[0;36mDataFrame.apply\u001B[0;34m(self, func, axis, raw, result_type, args, **kwargs)\u001B[0m\n\u001B[1;32m   9557\u001B[0m \u001B[38;5;28;01mfrom\u001B[39;00m \u001B[38;5;21;01mpandas\u001B[39;00m\u001B[38;5;21;01m.\u001B[39;00m\u001B[38;5;21;01mcore\u001B[39;00m\u001B[38;5;21;01m.\u001B[39;00m\u001B[38;5;21;01mapply\u001B[39;00m \u001B[38;5;28;01mimport\u001B[39;00m frame_apply\n\u001B[1;32m   9559\u001B[0m op \u001B[38;5;241m=\u001B[39m frame_apply(\n\u001B[1;32m   9560\u001B[0m     \u001B[38;5;28mself\u001B[39m,\n\u001B[1;32m   9561\u001B[0m     func\u001B[38;5;241m=\u001B[39mfunc,\n\u001B[0;32m   (...)\u001B[0m\n\u001B[1;32m   9566\u001B[0m     kwargs\u001B[38;5;241m=\u001B[39mkwargs,\n\u001B[1;32m   9567\u001B[0m )\n\u001B[0;32m-> 9568\u001B[0m \u001B[38;5;28;01mreturn\u001B[39;00m \u001B[43mop\u001B[49m\u001B[38;5;241;43m.\u001B[39;49m\u001B[43mapply\u001B[49m\u001B[43m(\u001B[49m\u001B[43m)\u001B[49m\u001B[38;5;241m.\u001B[39m__finalize__(\u001B[38;5;28mself\u001B[39m, method\u001B[38;5;241m=\u001B[39m\u001B[38;5;124m\"\u001B[39m\u001B[38;5;124mapply\u001B[39m\u001B[38;5;124m\"\u001B[39m)\n",
      "File \u001B[0;32m~/DataspellProjects/MachineLearning/venv/lib64/python3.11/site-packages/pandas/core/apply.py:764\u001B[0m, in \u001B[0;36mFrameApply.apply\u001B[0;34m(self)\u001B[0m\n\u001B[1;32m    761\u001B[0m \u001B[38;5;28;01melif\u001B[39;00m \u001B[38;5;28mself\u001B[39m\u001B[38;5;241m.\u001B[39mraw:\n\u001B[1;32m    762\u001B[0m     \u001B[38;5;28;01mreturn\u001B[39;00m \u001B[38;5;28mself\u001B[39m\u001B[38;5;241m.\u001B[39mapply_raw()\n\u001B[0;32m--> 764\u001B[0m \u001B[38;5;28;01mreturn\u001B[39;00m \u001B[38;5;28;43mself\u001B[39;49m\u001B[38;5;241;43m.\u001B[39;49m\u001B[43mapply_standard\u001B[49m\u001B[43m(\u001B[49m\u001B[43m)\u001B[49m\n",
      "File \u001B[0;32m~/DataspellProjects/MachineLearning/venv/lib64/python3.11/site-packages/pandas/core/apply.py:891\u001B[0m, in \u001B[0;36mFrameApply.apply_standard\u001B[0;34m(self)\u001B[0m\n\u001B[1;32m    890\u001B[0m \u001B[38;5;28;01mdef\u001B[39;00m \u001B[38;5;21mapply_standard\u001B[39m(\u001B[38;5;28mself\u001B[39m):\n\u001B[0;32m--> 891\u001B[0m     results, res_index \u001B[38;5;241m=\u001B[39m \u001B[38;5;28;43mself\u001B[39;49m\u001B[38;5;241;43m.\u001B[39;49m\u001B[43mapply_series_generator\u001B[49m\u001B[43m(\u001B[49m\u001B[43m)\u001B[49m\n\u001B[1;32m    893\u001B[0m     \u001B[38;5;66;03m# wrap results\u001B[39;00m\n\u001B[1;32m    894\u001B[0m     \u001B[38;5;28;01mreturn\u001B[39;00m \u001B[38;5;28mself\u001B[39m\u001B[38;5;241m.\u001B[39mwrap_results(results, res_index)\n",
      "File \u001B[0;32m~/DataspellProjects/MachineLearning/venv/lib64/python3.11/site-packages/pandas/core/apply.py:907\u001B[0m, in \u001B[0;36mFrameApply.apply_series_generator\u001B[0;34m(self)\u001B[0m\n\u001B[1;32m    904\u001B[0m \u001B[38;5;28;01mwith\u001B[39;00m option_context(\u001B[38;5;124m\"\u001B[39m\u001B[38;5;124mmode.chained_assignment\u001B[39m\u001B[38;5;124m\"\u001B[39m, \u001B[38;5;28;01mNone\u001B[39;00m):\n\u001B[1;32m    905\u001B[0m     \u001B[38;5;28;01mfor\u001B[39;00m i, v \u001B[38;5;129;01min\u001B[39;00m \u001B[38;5;28menumerate\u001B[39m(series_gen):\n\u001B[1;32m    906\u001B[0m         \u001B[38;5;66;03m# ignore SettingWithCopy here in case the user mutates\u001B[39;00m\n\u001B[0;32m--> 907\u001B[0m         results[i] \u001B[38;5;241m=\u001B[39m \u001B[38;5;28;43mself\u001B[39;49m\u001B[38;5;241;43m.\u001B[39;49m\u001B[43mf\u001B[49m\u001B[43m(\u001B[49m\u001B[43mv\u001B[49m\u001B[43m)\u001B[49m\n\u001B[1;32m    908\u001B[0m         \u001B[38;5;28;01mif\u001B[39;00m \u001B[38;5;28misinstance\u001B[39m(results[i], ABCSeries):\n\u001B[1;32m    909\u001B[0m             \u001B[38;5;66;03m# If we have a view on v, we need to make a copy because\u001B[39;00m\n\u001B[1;32m    910\u001B[0m             \u001B[38;5;66;03m#  series_generator will swap out the underlying data\u001B[39;00m\n\u001B[1;32m    911\u001B[0m             results[i] \u001B[38;5;241m=\u001B[39m results[i]\u001B[38;5;241m.\u001B[39mcopy(deep\u001B[38;5;241m=\u001B[39m\u001B[38;5;28;01mFalse\u001B[39;00m)\n",
      "Cell \u001B[0;32mIn[1], line 76\u001B[0m, in \u001B[0;36mdownload_images\u001B[0;34m(*args, **kwargs)\u001B[0m\n\u001B[1;32m     72\u001B[0m     \u001B[38;5;28;01mreturn\u001B[39;00m request\u001B[38;5;241m.\u001B[39mstatus_code\n\u001B[1;32m     74\u001B[0m ret \u001B[38;5;241m=\u001B[39m []\n\u001B[0;32m---> 76\u001B[0m \u001B[38;5;28;01mfor\u001B[39;00m i, row \u001B[38;5;129;01min\u001B[39;00m \u001B[38;5;28menumerate\u001B[39m(\u001B[43mdata_json\u001B[49m):\n\u001B[1;32m     77\u001B[0m     \u001B[38;5;28mprint\u001B[39m(\u001B[38;5;124m\"\u001B[39m\u001B[38;5;124mTéléchargement de l\u001B[39m\u001B[38;5;124m'\u001B[39m\u001B[38;5;124mimage :\u001B[39m\u001B[38;5;124m\"\u001B[39m, row[\u001B[38;5;124m\"\u001B[39m\u001B[38;5;124mpath\u001B[39m\u001B[38;5;124m\"\u001B[39m])\n\u001B[1;32m     78\u001B[0m     download_image(row[\u001B[38;5;124m\"\u001B[39m\u001B[38;5;124mpath\u001B[39m\u001B[38;5;124m\"\u001B[39m], format_import_data_path(i))\n",
      "\u001B[0;31mNameError\u001B[0m: name 'data_json' is not defined"
     ]
    }
   ],
   "source": [
    "from pandas import json_normalize\n",
    "\n",
    "raw_data = results[\"results\"][\"bindings\"]\n",
    "\n",
    "data_dict = format_cities_data(raw_data)\n",
    "\n",
    "dataframe = json_normalize(data_dict)\n",
    "\n",
    "dataframe = dataframe.astype(\n",
    "    dtype={\"titre\": \"<U200\", \"date\": pd.PeriodDtype.type(), \"createur\": \"<U200\", \"location\": \"<U200\", \"path\": \"<U200\"}\n",
    ")\n",
    "\n",
    "dataframe.reset_index()\n",
    "\n",
    "dataframe.apply(download_images,axis=1)\n",
    "\n",
    "# merge_metadata(res)\n",
    "# print(res)\n",
    "dataframe\n"
   ],
   "metadata": {
    "collapsed": false
   }
  },
  {
   "cell_type": "code",
   "execution_count": null,
   "outputs": [],
   "source": [
    "with open(f\"{PROJECT_DATA_DIR}{SUB_DATA_DIR}/data.json\", \"w\") as f:\n",
    "    json_str = json.dumps(res, indent=4)\n",
    "    f.write(json_str)\n",
    "\n",
    "print(res)\n",
    "# download_image(\"http://toto.fr\")"
   ],
   "metadata": {
    "collapsed": false
   }
  },
  {
   "cell_type": "code",
   "execution_count": null,
   "outputs": [],
   "source": [],
   "metadata": {
    "collapsed": false
   }
  }
 ],
 "metadata": {
  "kernelspec": {
   "display_name": "Python 3",
   "language": "python",
   "name": "python3"
  },
  "language_info": {
   "codemirror_mode": {
    "name": "ipython",
    "version": 2
   },
   "file_extension": ".py",
   "mimetype": "text/x-python",
   "name": "python",
   "nbconvert_exporter": "python",
   "pygments_lexer": "ipython2",
   "version": "2.7.6"
  }
 },
 "nbformat": 4,
 "nbformat_minor": 0
}
