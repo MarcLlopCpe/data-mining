{
 "cells": [
  {
   "cell_type": "markdown",
   "source": [
    "# IMPORT DES DONNÉES"
   ],
   "metadata": {
    "collapsed": false
   }
  },
  {
   "cell_type": "code",
   "execution_count": 121,
   "outputs": [],
   "source": [
    "import requests\n",
    "import shutil\n",
    "import os\n",
    "from PIL import Image\n",
    "import PIL.ExifTags\n",
    "import pandas as pd\n",
    "import sys\n",
    "import json\n",
    "from SPARQLWrapper import SPARQLWrapper, JSON\n",
    "\n",
    "endpoint_url = \"https://query.wikidata.org/sparql\"\n",
    "\n",
    "# Get cities\n",
    "\n",
    "user_agent = \"Mozilla/5.0\"\n",
    "\n",
    "PROJECT_DATA_DIR = \"../../data/projet\"\n",
    "SUB_DATA_DIR = \"/import\"\n",
    "\n",
    "\n",
    "def get_exif(img_path: str):\n",
    "    img = PIL.Image.open(img_path)\n",
    "    return {\n",
    "        PIL.ExifTags.TAGS[k]: v\n",
    "        for k, v in img._getexif().items()\n",
    "        if k in PIL.ExifTags.TAGS\n",
    "    }\n",
    "\n",
    "\n",
    "def merge_metadata(data):\n",
    "    for i in range(len(data)):\n",
    "        metadata = get_exif(data[i][\"local_path\"])\n",
    "\n",
    "        data[i][\"have_exif\"] = len(metadata) != 0\n",
    "\n",
    "        if data[i][\"have_exif\"]:\n",
    "            data[i] = data[i] | metadata\n",
    "\n",
    "\n",
    "def format_import_data_path(image_id):\n",
    "    return f\"{PROJECT_DATA_DIR}{SUB_DATA_DIR}/images/{image_id}.jpg\"\n",
    "\n",
    "\n",
    "def get_results(endpoint_url, query):\n",
    "    sparql = SPARQLWrapper(endpoint_url, agent=user_agent)\n",
    "    sparql.setQuery(query)\n",
    "    sparql.setReturnFormat(JSON)\n",
    "    return sparql.query().convert()\n",
    "\n",
    "\n",
    "def download_images(row):\n",
    "    print(type(row))\n",
    "\n",
    "    def download_image(url, save_path=None):\n",
    "        headers = {\n",
    "            \"User-Agent\": \"Mozilla/5.0\",\n",
    "        }\n",
    "\n",
    "        if not save_path:\n",
    "            save_path = os.path.basename(url)\n",
    "\n",
    "        request = requests.get(url, allow_redirects=True, headers=headers, stream=True)\n",
    "\n",
    "        if request.status_code != 200:\n",
    "            print(f\"Erreur lors du téléchargement des images {request.status_code}\")\n",
    "        else:\n",
    "            with open(save_path, \"wb\") as image:\n",
    "                request.raw.decode_content = True\n",
    "\n",
    "                shutil.copyfileobj(request.raw, image)\n",
    "                print(\"> Image sauvegardé :\", save_path)\n",
    "\n",
    "        return request.status_code\n",
    "\n",
    "    ret = []\n",
    "\n",
    "    print(\"Téléchargement de l'image :\", row[\"local_path\"])\n",
    "    download_image(row[\"origin_path\"],row[\"local_path\"])\n",
    "\n",
    "\n",
    "def conv(x):\n",
    "    year, month, day = tuple(x.split(\"T\")[0].split('-'))\n",
    "    return pd.Period(year=int(year), month=int(month), day=int(day), freq=\"D\")\n",
    "\n",
    "\n",
    "def format_cities_data(raw_data):\n",
    "    ret: [] = []\n",
    "    last_row = {}\n",
    "    i = 0\n",
    "    for row in raw_data:\n",
    "        if row[\"image\"][\"value\"].endswith(\"jpg\") or row[\"image\"][\"value\"].endswith(\"jpeg\"):\n",
    "            try:\n",
    "                new_row = {\n",
    "                    \"titre\": row[\"peintureLabel\"][\"value\"],\n",
    "                    \"date\": conv(row[\"inceptionLabel\"][\"value\"]),\n",
    "                    \"createur\": row[\"createurLabel\"][\"value\"],\n",
    "                    \"location\": row[\"locationLabel\"][\"value\"],\n",
    "                    \"origin_path\": row[\"image\"][\"value\"]\n",
    "                }\n",
    "\n",
    "                is_new = True\n",
    "\n",
    "                for key in new_row.keys():\n",
    "                    if new_row[key] == last_row.get(key,\"\"):\n",
    "                        is_new = False\n",
    "\n",
    "                if is_new:\n",
    "                    ret.append(\n",
    "                        new_row\n",
    "                    )\n",
    "                    new_row[\"local_path\"] = format_import_data_path(i)\n",
    "                    i+=1\n",
    "\n",
    "                    last_row = new_row\n",
    "\n",
    "            except ValueError as e:\n",
    "                pass\n",
    "\n",
    "    return ret"
   ],
   "metadata": {
    "collapsed": false
   }
  },
  {
   "cell_type": "code",
   "execution_count": 129,
   "outputs": [],
   "source": [
    "results = get_results(endpoint_url, \"\"\"\n",
    "    SELECT DISTINCT ?peintureLabel ?createurLabel  ?inceptionLabel ?locationLabel ?image WHERE {\n",
    "      ?peinture wdt:P31 wd:Q11060274;\n",
    "        wdt:P170 ?createur;\n",
    "        wdt:P276 ?location;\n",
    "        wdt:P571 ?inception;\n",
    "        wdt:P18 ?image.\n",
    "      SERVICE wikibase:label { bd:serviceParam wikibase:language \"en\". }\n",
    "    }\n",
    "    LIMIT 2000\n",
    "\"\"\")"
   ],
   "metadata": {
    "collapsed": false
   }
  },
  {
   "cell_type": "code",
   "execution_count": 130,
   "outputs": [
    {
     "data": {
      "text/plain": "                                           titre        date  \\\n0    The Virgin with Hairband on a Crescent Moon  1514-01-01   \n1                     Portrait of Jacobus Revius  1630-01-01   \n2                                      Ecce Homo  1515-01-01   \n3        Fuji from Ushibori, Province of Hitachi  1831-01-01   \n4                               The Flagellation  1512-01-01   \n..                                           ...         ...   \n135           Death Chasing the Flock of Mortals  1896-01-01   \n136           Caricature of Alexandre Dumas fils  1867-01-01   \n137                         Menu for Charles Vos  1896-01-01   \n138              View near Aber, Caernarvonshire  1850-01-01   \n139                                    Q22273863  1888-01-01   \n\n               createur                                           location  \\\n0        Albrecht Dürer                            Cleveland Museum of Art   \n1      Jonas Suyderhoef  http://www.wikidata.org/.well-known/genid/b97d...   \n2        Albrecht Dürer                             Chester Beatty Library   \n3    Katsushika Hokusai                            Cleveland Museum of Art   \n4        Albrecht Dürer                            National Gallery of Art   \n..                  ...                                                ...   \n135         James Ensor                    Museum of Fine Arts Ghent (MSK)   \n136          André Gill                             Alexandre Dumas Museum   \n137         James Ensor                    Museum of Fine Arts Ghent (MSK)   \n138     J. Newman & Co.                          National Library of Wales   \n139         James Ensor                       Mu.ZEE - Kunstmuseum aan Zee   \n\n                                           origin_path  \\\n0    http://commons.wikimedia.org/wiki/Special:File...   \n1    http://commons.wikimedia.org/wiki/Special:File...   \n2    http://commons.wikimedia.org/wiki/Special:File...   \n3    http://commons.wikimedia.org/wiki/Special:File...   \n4    http://commons.wikimedia.org/wiki/Special:File...   \n..                                                 ...   \n135  http://commons.wikimedia.org/wiki/Special:File...   \n136  http://commons.wikimedia.org/wiki/Special:File...   \n137  http://commons.wikimedia.org/wiki/Special:File...   \n138  http://commons.wikimedia.org/wiki/Special:File...   \n139  http://commons.wikimedia.org/wiki/Special:File...   \n\n                                  local_path  \n0      ../../data/projet/import/images/0.jpg  \n1      ../../data/projet/import/images/1.jpg  \n2      ../../data/projet/import/images/2.jpg  \n3      ../../data/projet/import/images/3.jpg  \n4      ../../data/projet/import/images/4.jpg  \n..                                       ...  \n135  ../../data/projet/import/images/135.jpg  \n136  ../../data/projet/import/images/136.jpg  \n137  ../../data/projet/import/images/137.jpg  \n138  ../../data/projet/import/images/138.jpg  \n139  ../../data/projet/import/images/139.jpg  \n\n[140 rows x 6 columns]",
      "text/html": "<div>\n<style scoped>\n    .dataframe tbody tr th:only-of-type {\n        vertical-align: middle;\n    }\n\n    .dataframe tbody tr th {\n        vertical-align: top;\n    }\n\n    .dataframe thead th {\n        text-align: right;\n    }\n</style>\n<table border=\"1\" class=\"dataframe\">\n  <thead>\n    <tr style=\"text-align: right;\">\n      <th></th>\n      <th>titre</th>\n      <th>date</th>\n      <th>createur</th>\n      <th>location</th>\n      <th>origin_path</th>\n      <th>local_path</th>\n    </tr>\n  </thead>\n  <tbody>\n    <tr>\n      <th>0</th>\n      <td>The Virgin with Hairband on a Crescent Moon</td>\n      <td>1514-01-01</td>\n      <td>Albrecht Dürer</td>\n      <td>Cleveland Museum of Art</td>\n      <td>http://commons.wikimedia.org/wiki/Special:File...</td>\n      <td>../../data/projet/import/images/0.jpg</td>\n    </tr>\n    <tr>\n      <th>1</th>\n      <td>Portrait of Jacobus Revius</td>\n      <td>1630-01-01</td>\n      <td>Jonas Suyderhoef</td>\n      <td>http://www.wikidata.org/.well-known/genid/b97d...</td>\n      <td>http://commons.wikimedia.org/wiki/Special:File...</td>\n      <td>../../data/projet/import/images/1.jpg</td>\n    </tr>\n    <tr>\n      <th>2</th>\n      <td>Ecce Homo</td>\n      <td>1515-01-01</td>\n      <td>Albrecht Dürer</td>\n      <td>Chester Beatty Library</td>\n      <td>http://commons.wikimedia.org/wiki/Special:File...</td>\n      <td>../../data/projet/import/images/2.jpg</td>\n    </tr>\n    <tr>\n      <th>3</th>\n      <td>Fuji from Ushibori, Province of Hitachi</td>\n      <td>1831-01-01</td>\n      <td>Katsushika Hokusai</td>\n      <td>Cleveland Museum of Art</td>\n      <td>http://commons.wikimedia.org/wiki/Special:File...</td>\n      <td>../../data/projet/import/images/3.jpg</td>\n    </tr>\n    <tr>\n      <th>4</th>\n      <td>The Flagellation</td>\n      <td>1512-01-01</td>\n      <td>Albrecht Dürer</td>\n      <td>National Gallery of Art</td>\n      <td>http://commons.wikimedia.org/wiki/Special:File...</td>\n      <td>../../data/projet/import/images/4.jpg</td>\n    </tr>\n    <tr>\n      <th>...</th>\n      <td>...</td>\n      <td>...</td>\n      <td>...</td>\n      <td>...</td>\n      <td>...</td>\n      <td>...</td>\n    </tr>\n    <tr>\n      <th>135</th>\n      <td>Death Chasing the Flock of Mortals</td>\n      <td>1896-01-01</td>\n      <td>James Ensor</td>\n      <td>Museum of Fine Arts Ghent (MSK)</td>\n      <td>http://commons.wikimedia.org/wiki/Special:File...</td>\n      <td>../../data/projet/import/images/135.jpg</td>\n    </tr>\n    <tr>\n      <th>136</th>\n      <td>Caricature of Alexandre Dumas fils</td>\n      <td>1867-01-01</td>\n      <td>André Gill</td>\n      <td>Alexandre Dumas Museum</td>\n      <td>http://commons.wikimedia.org/wiki/Special:File...</td>\n      <td>../../data/projet/import/images/136.jpg</td>\n    </tr>\n    <tr>\n      <th>137</th>\n      <td>Menu for Charles Vos</td>\n      <td>1896-01-01</td>\n      <td>James Ensor</td>\n      <td>Museum of Fine Arts Ghent (MSK)</td>\n      <td>http://commons.wikimedia.org/wiki/Special:File...</td>\n      <td>../../data/projet/import/images/137.jpg</td>\n    </tr>\n    <tr>\n      <th>138</th>\n      <td>View near Aber, Caernarvonshire</td>\n      <td>1850-01-01</td>\n      <td>J. Newman &amp; Co.</td>\n      <td>National Library of Wales</td>\n      <td>http://commons.wikimedia.org/wiki/Special:File...</td>\n      <td>../../data/projet/import/images/138.jpg</td>\n    </tr>\n    <tr>\n      <th>139</th>\n      <td>Q22273863</td>\n      <td>1888-01-01</td>\n      <td>James Ensor</td>\n      <td>Mu.ZEE - Kunstmuseum aan Zee</td>\n      <td>http://commons.wikimedia.org/wiki/Special:File...</td>\n      <td>../../data/projet/import/images/139.jpg</td>\n    </tr>\n  </tbody>\n</table>\n<p>140 rows × 6 columns</p>\n</div>"
     },
     "execution_count": 130,
     "metadata": {},
     "output_type": "execute_result"
    }
   ],
   "source": [
    "from pandas import json_normalize\n",
    "\n",
    "raw_data = results[\"results\"][\"bindings\"]\n",
    "\n",
    "data_dict = format_cities_data(raw_data)\n",
    "\n",
    "dataframe = json_normalize(data_dict)\n",
    "\n",
    "dataframe = dataframe.astype(\n",
    "    dtype={\"titre\": \"<U200\", \"date\": pd.PeriodDtype.type()}\n",
    ")\n",
    "\n",
    "dataframe.reset_index()\n",
    "\n",
    "# dataframe.apply(download_images, axis=1)\n",
    "\n",
    "# merge_metadata(data_dict)\n",
    "\n",
    "# merge_metadata(res)\n",
    "# print(res)\n",
    "dataframe"
   ],
   "metadata": {
    "collapsed": false
   }
  },
  {
   "cell_type": "code",
   "execution_count": null,
   "outputs": [],
   "source": [
    "with open(f\"{PROJECT_DATA_DIR}{SUB_DATA_DIR}/data.json\", \"w\") as f:\n",
    "    json_str = json.dumps(res, indent=4)\n",
    "    f.write(json_str)\n",
    "\n",
    "print(res)\n",
    "# download_image(\"http://toto.fr\")"
   ],
   "metadata": {
    "collapsed": false
   }
  },
  {
   "cell_type": "code",
   "execution_count": null,
   "outputs": [],
   "source": [],
   "metadata": {
    "collapsed": false
   }
  }
 ],
 "metadata": {
  "kernelspec": {
   "display_name": "Python 3",
   "language": "python",
   "name": "python3"
  },
  "language_info": {
   "codemirror_mode": {
    "name": "ipython",
    "version": 2
   },
   "file_extension": ".py",
   "mimetype": "text/x-python",
   "name": "python",
   "nbconvert_exporter": "python",
   "pygments_lexer": "ipython2",
   "version": "2.7.6"
  }
 },
 "nbformat": 4,
 "nbformat_minor": 0
}
