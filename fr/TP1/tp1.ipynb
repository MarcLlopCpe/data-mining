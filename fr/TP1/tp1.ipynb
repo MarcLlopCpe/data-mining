{
 "cells": [
  {
   "cell_type": "markdown",
   "id": "c1a79fa3",
   "metadata": {},
   "source": [
    "# TP 1\n",
    "\n",
    "## Objectifs\n",
    "\n",
    "- Analyser et travailler avec des fichiers CSV, TSV et JSON\n",
    "- Interroger des sources de données externes\n",
    "- Analyses de données\n",
    "\n",
    "### Exercices\n",
    "\n",
    "1.  Installation et mise en place de pip, scikit-learn et jupyter\n",
    "2.  Analyse et lecture de fichiers CSV/TSV\n",
    "3.  Analyse et lecture des fichiers JSON\n",
    "4.  Interrogation de sources de données externes (API)\n",
    "5.  Effectuer des analyses de données classiques\n"
   ]
  },
  {
   "cell_type": "markdown",
   "id": "26dbc52c-27eb-448e-9427-fa7bd5e2503c",
   "metadata": {},
   "source": [
    "## Captures d'écran \n",
    "\n",
    "Des captures d'écran ont été fournies afin que vous puissiez vérifier et comparer si le résultat que vous obtenez correspond à ce que nous attendons de l'étape (ou de l'exercice) en question."
   ]
  },
  {
   "cell_type": "markdown",
   "id": "6f62c803",
   "metadata": {},
   "source": [
    "## Exercice 1\n",
    "\n"
   ]
  },
  {
   "cell_type": "markdown",
   "id": "2ff61ddc",
   "metadata": {},
   "source": [
    "##### Installation\n",
    "\n",
    "Exécutez les commandes suivantes sur vos **machines virtuelles**\n",
    "\n"
   ]
  },
  {
   "cell_type": "markdown",
   "id": "516ee620",
   "metadata": {},
   "source": [
    "**pip**\n",
    "\n",
    "Pour installer `pip`, vous devez exécuter les commandes suivantes sur votre terminal :\n",
    "\n",
    "Veuillez remarquer que toutes les lignes commençant par \"$\" doivent être exécutées sur le terminal."
   ]
  },
  {
   "cell_type": "markdown",
   "id": "0a3df15a",
   "metadata": {},
   "source": [
    "`$ sudo apt update`\n",
    "\n",
    "`$ sudo apt install python3-dev`\n",
    "\n",
    "`$ sudo apt install python3-pip`"
   ]
  },
  {
   "cell_type": "markdown",
   "id": "b01f9624",
   "metadata": {},
   "source": [
    "Installation de virtualenv"
   ]
  },
  {
   "cell_type": "markdown",
   "id": "3c1a88ec",
   "metadata": {},
   "source": [
    "`$ sudo apt install virtualenv`"
   ]
  },
  {
   "cell_type": "markdown",
   "id": "8afd5bc3",
   "metadata": {},
   "source": [
    "Installation dans virtualenv\n",
    "\n"
   ]
  },
  {
   "cell_type": "markdown",
   "id": "5bc44a8a",
   "metadata": {},
   "source": [
    "`$ virtualenv --system-site-packages -p python3 env`"
   ]
  },
  {
   "cell_type": "markdown",
   "id": "9af1931b",
   "metadata": {},
   "source": [
    "`$ source env/bin/activate`"
   ]
  },
  {
   "cell_type": "markdown",
   "id": "bcce9a06",
   "metadata": {},
   "source": [
    "Installation de Jupyter"
   ]
  },
  {
   "cell_type": "markdown",
   "id": "b2c3157d",
   "metadata": {},
   "source": [
    "`$ python3 -m pip install --upgrade --force-reinstall  --no-cache jupyter`"
   ]
  },
  {
   "cell_type": "markdown",
   "id": "fa078652",
   "metadata": {},
   "source": [
    "Installation de scikit-learn"
   ]
  },
  {
   "cell_type": "markdown",
   "id": "a3a1c787",
   "metadata": {},
   "source": [
    "`$ python3 -m pip install scikit-learn`"
   ]
  },
  {
   "cell_type": "markdown",
   "id": "accc4811",
   "metadata": {},
   "source": [
    "Installation de  numpy"
   ]
  },
  {
   "cell_type": "markdown",
   "id": "411b2d67",
   "metadata": {},
   "source": [
    "`$ python3 -m pip install numpy`"
   ]
  },
  {
   "cell_type": "markdown",
   "id": "b94410f0",
   "metadata": {},
   "source": [
    "Installation de  pandas"
   ]
  },
  {
   "cell_type": "markdown",
   "id": "f3570c10",
   "metadata": {},
   "source": [
    "`$ python3 -m pip install pandas`"
   ]
  },
  {
   "cell_type": "markdown",
   "id": "ebe6f9af",
   "metadata": {},
   "source": [
    "Installation de matplotlib"
   ]
  },
  {
   "cell_type": "markdown",
   "id": "4433299c",
   "metadata": {},
   "source": [
    "`$ python3 -m pip install matplotlib`"
   ]
  },
  {
   "cell_type": "markdown",
   "id": "3bc92b35",
   "metadata": {},
   "source": [
    "#### Hello World!\n",
    "\n",
    "Si votre installation est réussie, vous pouvez exécuter la commande suivante pour cloner le répertoire:"
   ]
  },
  {
   "cell_type": "markdown",
   "id": "e548f44d",
   "metadata": {},
   "source": [
    "`$ git clone https://github.com/johnsamuelwrites/DataMining`\n",
    "\n",
    "`$ cd DataMining`"
   ]
  },
  {
   "cell_type": "markdown",
   "id": "9c881236-ac1c-46c4-a8dd-c044826099ac",
   "metadata": {},
   "source": [
    "Lancez Jupyter Notebook (ou Lab)\n",
    "\n",
    "`$ jupyter notebook`\n",
    "\n",
    "ou\n",
    "\n",
    "`$ jupyter lab`"
   ]
  },
  {
   "cell_type": "markdown",
   "id": "3ee83a96",
   "metadata": {},
   "source": [
    "Une nouvelle page apparaîtra sur votre navigateur et vous verrez l'image suivante ![](../../images/jupyter.png)\n",
    "\n",
    "Cliquez sur l'onglet \"Running\". Vous ne voyez aucun notebook en cours d'exécution (si c'est la première fois que vous utilisez jupyter).\n",
    "![](../../images/jupyterrunning.png)\n",
    "\n",
    "Retournez à l'onglet \"Files\", cliquez sur \"New\" et choisissez Python3 sous\n",
    "Notebook. \n",
    "\n",
    "![](../../images/jupyternotebooks.png)\n",
    "\n",
    "Un nouvel onglet s'ouvrira comme indiqué ci-dessous. Inscrivez le code suivant dans la cellule.\n",
    "\n"
   ]
  },
  {
   "cell_type": "code",
   "execution_count": null,
   "id": "c6ab2eca",
   "metadata": {},
   "outputs": [],
   "source": [
    "print(\"Hello World!\")"
   ]
  },
  {
   "attachments": {},
   "cell_type": "markdown",
   "id": "7a1bec7c",
   "metadata": {},
   "source": [
    "![](../../images/jupyterprogram.png)\n",
    "\n",
    "Vous pouvez vous déplacer dans n'importe quelle cellule et appuyer sur \"Run\".\n",
    "\n",
    "Par défaut, votre notebook est nommé \"Untitled\". Vous pouvez le renommer comme indiqué ci-dessous, en cliquant sur le nom \"Untitled\" et en lui donnant un nouveau nom.\n",
    "\n",
    "![](../../images/jupyterrenamenotebook.png)\n",
    "\n",
    "Retournez maintenant à l'onglet \"Files\" et vous pouvez voir le Notebook renommé.\n",
    "Vous pouvez cliquer sur votre Notebook à tout moment pour continuer à travailler.\n",
    "\n",
    "![](../../images/jupyternotebooks.png)\n",
    "\n",
    "Maintenant, continuons à travailler sur votre Notebook actuel. Ecrivez le code suivant pour vérifier si scikit est correctement installé.\n",
    "\n",
    "Le code ci-dessous indique les ensembles de données disponibles de scikit.\n"
   ]
  },
  {
   "cell_type": "code",
   "execution_count": null,
   "id": "aa71883d",
   "metadata": {},
   "outputs": [],
   "source": [
    "from sklearn import datasets\n",
    "\n",
    "print(datasets.__all__)"
   ]
  },
  {
   "attachments": {},
   "cell_type": "markdown",
   "id": "f07c60eb",
   "metadata": {},
   "source": [
    "![](../../images/jupyterscikit.png)\n",
    "\n",
    "Maintenant, vous êtes prêt à exécuter le code !\n",
    "\n",
    "**Remarque:**, Vous pouvez arrêter le Notebook Jupyter à tout moment en tapant \"Ctrl+c\" sur le terminal et en appuyant sur \"y\" pour confirmer l'arrêt.\n",
    "\n",
    "Effectuez les exercices (facultatifs) donnés dans le [TP 0](../TP0/tp0.ipynb)"
   ]
  },
  {
   "cell_type": "markdown",
   "id": "e873a49b",
   "metadata": {},
   "source": [
    "## Exercice 2\n",
    "\n",
    "\n",
    "La plupart du temps, nous travaillons avec des fichiers CSV (comma-separated values) pour l'analyse des données. Un fichier CSV est constitué d'une ou plusieurs lignes et chaque ligne comporte une ou plusieurs valeurs séparées par des virgules. On peut considérer chaque ligne comme une rangée et chaque valeur d'une ligne comme une valeur de colonne. La première ligne est parfois utilisée pour décrire les noms des colonnes.\n",
    "\n",
    "\n",
    "Copier le fichier\n",
    "[pl.csv](../../data/pl.csv) dans votre répertoire de travail actuel (où vous exécutez Jupyter : TP1) et utilisez le code suivant pour analyser le fichier csv. Remarquez les noms de colonnes et les types de données (U100, i4), où U100 correspond à une chaîne unicode de 100 caractères et i4 correspond à un entier signé de 32 bits.\n",
    "\n",
    "Veuillez consulter la liste complète des dtypes [ici](https://numpy.org/doc/stable/reference/arrays.dtypes.html).\n"
   ]
  },
  {
   "cell_type": "code",
   "execution_count": null,
   "id": "46a469cd",
   "metadata": {},
   "outputs": [],
   "source": [
    "import numpy as np\n",
    "\n",
    "dataset = np.loadtxt(\n",
    "    \"../../data/pl.csv\",  # Remplacez cette valeur par le chemin d'accès de votre fichier CSV.\n",
    "    dtype={\"names\": (\"name\", \"year\"), \"formats\": (\"U100\", \"i4\")},\n",
    "    skiprows=1,  # passez la première ligne, puisque c'est l'en-tête\n",
    "    delimiter=\",\",  # le séparateur est une virgule puisqu'il s'agit d'un fichier CSV.\n",
    "    encoding=\"UTF-8\",  # encodage UTF-8\n",
    ")\n",
    "print(dataset)"
   ]
  },
  {
   "attachments": {},
   "cell_type": "markdown",
   "id": "1d3d8815",
   "metadata": {},
   "source": [
    "![](../../images/numpycsv.png)\n",
    "\n",
    "[Soutien du CSV en numpy](https://docs.scipy.org/doc/numpy/reference/generated/numpy.loadtxt.html)\n",
    "(**Ref:**\n",
    "(https://docs.scipy.org/doc/numpy/reference/generated/numpy.loadtxt.html))\n",
    "est différent du défaut de Python [CSV\n",
    "reader](https://docs.python.org/3.9/library/csv.html) (**Ref:**\n",
    "(https://docs.python.org/3.9/library/csv.html))\n",
    "en raison de sa capacité à prendre en charge les [types de données](https://docs.scipy.org/doc/numpy/reference/arrays.dtypes.html)\n",
    "(**Ref:**\n",
    "(https://docs.scipy.org/doc/numpy/reference/arrays.dtypes.html)).\n",
    "Avant de continuer, examinez en profondeur\n",
    "[numpy.loadtxt](https://docs.scipy.org/doc/numpy/reference/generated/numpy.loadtxt.html)\n",
    "(**Ref:**\n",
    "(https://docs.scipy.org/doc/numpy/reference/generated/numpy.loadtxt.html)).\n",
    "\n",
    "  \n",
    "\n",
    "Copier le fichier\n",
    "[pl.tsv](../../data/pl.tsv) dans votre répertoire de travail actuel et utilisez le code suivant pour analyser le fichier TSV.\n",
    "\n"
   ]
  },
  {
   "cell_type": "code",
   "execution_count": null,
   "id": "7d814546",
   "metadata": {},
   "outputs": [],
   "source": [
    "import numpy as np\n",
    "\n",
    "dataset = np.loadtxt(\n",
    "    \"../../data/pl.tsv\",  # Remplacez cette valeur par le chemin d'accès de votre fichier TSV.\n",
    "    dtype={\"names\": (\"name\", \"year\"), \"formats\": (\"U100\", \"i4\")},\n",
    "    skiprows=1,\n",
    "    delimiter=\"\\t\",  # le séparateur est '\\t' puisqu'il s'agit d'un fichier TSV.\n",
    "    encoding=\"UTF-8\",\n",
    ")\n",
    "print(dataset)"
   ]
  },
  {
   "cell_type": "markdown",
   "id": "5de7b110",
   "metadata": {},
   "source": [
    "Les changements dans le code ci-dessus par rapport au précédent. Un fichier TSV est un fichier séparé par des tabulations, c'est-à-dire que les valeurs des colonnes sont séparées par un\n",
    "tabulation ((\\t)).\n"
   ]
  },
  {
   "cell_type": "code",
   "execution_count": null,
   "id": "b28fe040-c99e-435d-afe2-dac6987273cf",
   "metadata": {},
   "outputs": [],
   "source": [
    "print(len(dataset))"
   ]
  },
  {
   "cell_type": "markdown",
   "id": "2bdbd3dc-4082-4cf0-a8ea-773061f13ddf",
   "metadata": {},
   "source": [
    "Vous pouvez également afficher la sortie des variables et méthodes dans un Notebook sans `print()`"
   ]
  },
  {
   "cell_type": "code",
   "execution_count": null,
   "id": "8fc9a364-58e7-4eeb-a08c-cc41bed3665a",
   "metadata": {},
   "outputs": [],
   "source": [
    "len(dataset)"
   ]
  },
  {
   "cell_type": "markdown",
   "id": "e7c04aec",
   "metadata": {},
   "source": [
    "## Exercice 3\n",
    "\n",
    "La plupart des sources de données externes peuvent fournir leurs données au format JSON.\n",
    "Notre prochain exercice consiste à analyser les fichiers JSON. Copiez le fichier\n",
    "[pl.json](../../data/pl.json) à votre répertoire de travail actuel et utilisez le code suivant pour analyser le fichier JSON. Dans cet exercice, nous utilisons [Pandas python\n",
    "package](https://pandas.pydata.org/pandas-docs/stable/) (**Ref:**\n",
    "(https://pandas.pydata.org/pandas-docs/stable/)) d'analyser le fichier JSON pour obtenir un [Pandas DataFrame](https://pandas.pydata.org/pandas-docs/stable/generated/pandas.DataFrame.html)\n",
    "(**Ref:**\n",
    "(https://pandas.pydata.org/pandas-docs/stable/generated/pandas.DataFrame.html)).\n",
    "Essayez d'utiliser des méthodes comme\n",
    "[transpose](https://pandas.pydata.org/pandas-docs/stable/generated/pandas.DataFrame.transpose.html#pandas.DataFrame.transpose)\n",
    "(**Ref:**\n",
    "(https://pandas.pydata.org/pandas-docs/stable/generated/pandas.DataFrame.transpose.html#pandas.DataFrame.transpose)),\n",
    "[count](https://pandas.pydata.org/pandas-docs/stable/generated/pandas.DataFrame.count.html#pandas.DataFrame.count)\n",
    "(**Ref:**\n",
    "(https://pandas.pydata.org/pandas-docs/stable/generated/pandas.DataFrame.count.html#pandas.DataFrame.count))\n",
    "etc.\n",
    "\n",
    "Avant de continuer cet exercice, veuillez vous entraîner à travailler avec des pandas.\n",
    "Consultez [10 minutes to pandas](https://pandas.pydata.org/pandas-docs/stable/10min.html)\n",
    "(**Ref:** (https://pandas.pydata.org/pandas-docs/stable/10min.html)).\n",
    "\n"
   ]
  },
  {
   "cell_type": "code",
   "execution_count": 1,
   "id": "f520d713",
   "metadata": {},
   "outputs": [
    {
     "name": "stdout",
     "output_type": "stream",
     "text": [
      "                                languageLabel  year\n",
      "0                         ENIAC coding system  1943\n",
      "1                            ENIAC Short Code  1946\n",
      "2   Von Neumann and Goldstine graphing system  1946\n",
      "3                                ARC Assembly  1947\n",
      "4                                  Plankalkül  1948\n",
      "..                                        ...   ...\n",
      "95                                       BCPL  1967\n",
      "96                                  Interlisp  1967\n",
      "97                                     Simula  1967\n",
      "98                                        XPL  1967\n",
      "99                                      PILOT  1968\n",
      "\n",
      "[100 rows x 2 columns]\n"
     ]
    }
   ],
   "source": [
    "from pandas import json_normalize\n",
    "import pandas as pd\n",
    "import json\n",
    "\n",
    "data = json.load(open(\"../../data/pl.json\"))\n",
    "dataframe = json_normalize(data)\n",
    "print(dataframe)"
   ]
  },
  {
   "cell_type": "markdown",
   "id": "9dcb6cb0-2342-417e-9ff8-9a3e82c83f1f",
   "metadata": {},
   "source": [
    "Et l'affichage sans `print()`"
   ]
  },
  {
   "cell_type": "code",
   "execution_count": 2,
   "id": "d35cb9ad-d939-45ec-8d64-c9487bd929ce",
   "metadata": {},
   "outputs": [
    {
     "data": {
      "text/plain": "                                languageLabel  year\n0                         ENIAC coding system  1943\n1                            ENIAC Short Code  1946\n2   Von Neumann and Goldstine graphing system  1946\n3                                ARC Assembly  1947\n4                                  Plankalkül  1948\n..                                        ...   ...\n95                                       BCPL  1967\n96                                  Interlisp  1967\n97                                     Simula  1967\n98                                        XPL  1967\n99                                      PILOT  1968\n\n[100 rows x 2 columns]",
      "text/html": "<div>\n<style scoped>\n    .dataframe tbody tr th:only-of-type {\n        vertical-align: middle;\n    }\n\n    .dataframe tbody tr th {\n        vertical-align: top;\n    }\n\n    .dataframe thead th {\n        text-align: right;\n    }\n</style>\n<table border=\"1\" class=\"dataframe\">\n  <thead>\n    <tr style=\"text-align: right;\">\n      <th></th>\n      <th>languageLabel</th>\n      <th>year</th>\n    </tr>\n  </thead>\n  <tbody>\n    <tr>\n      <th>0</th>\n      <td>ENIAC coding system</td>\n      <td>1943</td>\n    </tr>\n    <tr>\n      <th>1</th>\n      <td>ENIAC Short Code</td>\n      <td>1946</td>\n    </tr>\n    <tr>\n      <th>2</th>\n      <td>Von Neumann and Goldstine graphing system</td>\n      <td>1946</td>\n    </tr>\n    <tr>\n      <th>3</th>\n      <td>ARC Assembly</td>\n      <td>1947</td>\n    </tr>\n    <tr>\n      <th>4</th>\n      <td>Plankalkül</td>\n      <td>1948</td>\n    </tr>\n    <tr>\n      <th>...</th>\n      <td>...</td>\n      <td>...</td>\n    </tr>\n    <tr>\n      <th>95</th>\n      <td>BCPL</td>\n      <td>1967</td>\n    </tr>\n    <tr>\n      <th>96</th>\n      <td>Interlisp</td>\n      <td>1967</td>\n    </tr>\n    <tr>\n      <th>97</th>\n      <td>Simula</td>\n      <td>1967</td>\n    </tr>\n    <tr>\n      <th>98</th>\n      <td>XPL</td>\n      <td>1967</td>\n    </tr>\n    <tr>\n      <th>99</th>\n      <td>PILOT</td>\n      <td>1968</td>\n    </tr>\n  </tbody>\n</table>\n<p>100 rows × 2 columns</p>\n</div>"
     },
     "execution_count": 2,
     "metadata": {},
     "output_type": "execute_result"
    }
   ],
   "source": [
    "dataframe"
   ]
  },
  {
   "cell_type": "markdown",
   "id": "51a53dbe-bf5e-48c6-b406-95906a2ce0f9",
   "metadata": {},
   "source": [
    "Pour afficher les valeurs de la colonne **year**:"
   ]
  },
  {
   "cell_type": "code",
   "execution_count": 3,
   "id": "4c8ed560-676e-4b6b-b63a-52b9584f1e3b",
   "metadata": {},
   "outputs": [
    {
     "data": {
      "text/plain": "0     1943\n1     1946\n2     1946\n3     1947\n4     1948\n      ... \n95    1967\n96    1967\n97    1967\n98    1967\n99    1968\nName: year, Length: 100, dtype: object"
     },
     "execution_count": 3,
     "metadata": {},
     "output_type": "execute_result"
    }
   ],
   "source": [
    "dataframe[\"year\"]"
   ]
  },
  {
   "cell_type": "markdown",
   "id": "3889e3ce-3104-4803-a01b-0f1a109b49ec",
   "metadata": {},
   "source": [
    "Pour afficher les valeurs de la colonne **languageLabel**:"
   ]
  },
  {
   "cell_type": "code",
   "execution_count": null,
   "id": "5f90d239-e4bb-4d64-baaf-58843af6c7ca",
   "metadata": {},
   "outputs": [],
   "source": [
    "dataframe[\"languageLabel\"]"
   ]
  },
  {
   "cell_type": "markdown",
   "id": "54b31e46-ddbb-45fd-b070-9b410e0932a2",
   "metadata": {},
   "source": [
    "Obtenir des informations importantes comme le nombre, le minimum, le maximum en utilisant `describe()`"
   ]
  },
  {
   "cell_type": "code",
   "execution_count": null,
   "id": "4481a22f-6eb9-422d-aafa-b76b12b73399",
   "metadata": {},
   "outputs": [],
   "source": [
    "dataframe.describe()"
   ]
  },
  {
   "cell_type": "markdown",
   "id": "7b906f38-c002-4727-b675-ebed6877a3e1",
   "metadata": {},
   "source": [
    "Pour obtenir les valeurs uniques de la colonne **year** :"
   ]
  },
  {
   "cell_type": "code",
   "execution_count": null,
   "id": "ac960461-9aaf-4e7d-92a3-3ceecf4009f5",
   "metadata": {},
   "outputs": [],
   "source": [
    "dataframe[\"year\"].unique()"
   ]
  },
  {
   "cell_type": "markdown",
   "id": "6a6a528a-0ebe-4cc7-897f-6738a95c9642",
   "metadata": {},
   "source": [
    "Pour obtenir les valeurs uniques de la colonne **languageLabel** :"
   ]
  },
  {
   "cell_type": "code",
   "execution_count": null,
   "id": "9e37567e-f6db-4229-a1a0-8766f4d28468",
   "metadata": {},
   "outputs": [],
   "source": [
    "dataframe[\"languageLabel\"].unique()"
   ]
  },
  {
   "cell_type": "markdown",
   "id": "6e8b110e-4320-4ae4-bbfa-9eabc069b113",
   "metadata": {},
   "source": [
    "Pour trier les valeurs par une ou plusieurs colonnes"
   ]
  },
  {
   "cell_type": "code",
   "execution_count": null,
   "id": "328f5ba5-0a3e-4d82-a335-877dea696e7f",
   "metadata": {},
   "outputs": [],
   "source": [
    "dataframe.sort_values([\"year\"])"
   ]
  },
  {
   "cell_type": "code",
   "execution_count": null,
   "id": "cf60b30d-cfda-4354-ab93-4081a4926e7f",
   "metadata": {},
   "outputs": [],
   "source": [
    "dataframe.sort_values([\"year\", \"languageLabel\"])"
   ]
  },
  {
   "cell_type": "code",
   "execution_count": null,
   "id": "dc3e0bc1-2193-40d9-881a-7263488edb99",
   "metadata": {},
   "outputs": [],
   "source": [
    "dataframe.sort_values([\"languageLabel\"])"
   ]
  },
  {
   "cell_type": "markdown",
   "id": "18391a8a-a270-4e23-9688-7b1567d6053f",
   "metadata": {},
   "source": [
    "Pour obtenir les types de données des colonnes"
   ]
  },
  {
   "cell_type": "code",
   "execution_count": null,
   "id": "766ae7e9-142c-4a20-9f91-f54b6d5db67a",
   "metadata": {},
   "outputs": [],
   "source": [
    "dataframe.dtypes"
   ]
  },
  {
   "attachments": {},
   "cell_type": "markdown",
   "id": "e751275d",
   "metadata": {},
   "source": [
    "## Exercice 4\n",
    "\n",
    "Dans cet exercice, nous examinerons comment télécharger des données à partir\n",
    "des sources de données externes utilisant des interfaces d'interrogation spéciales. Par exemple, les données ci-dessus ont été obtenues à partir de [Wikidata query](https://query.wikidata.org/) \n",
    "\n",
    "![](../../images/wikidataquery.png)\n",
    "\n",
    "Vous trouverez ci-dessous le code permettant de lire les données provenant d'une source externe. Utilisez ce\n",
    "[url](https://query.wikidata.org/sparql?query=SELECT%20%3FlanguageLabel%20(YEAR(%3Finception)%20as%20%3Fyear)%0AWHERE%0A%7B%0A%20%20%23instances%20of%20programming%20language%0A%20%20%3Flanguage%20wdt%3AP31%20wd%3AQ9143%3B%0A%20%20%20%20%20%20%20%20%20%20%20%20wdt%3AP571%20%3Finception%3B%0A%20%20%20%20%20%20%20%20%20%20%20%20rdfs%3Alabel%20%3FlanguageLabel.%0A%20%20FILTER(lang(%3FlanguageLabel)%20%3D%20%22en%22)%0A%7D%0AORDER%20BY%20%3Fyear%0ALIMIT%20100&format=json):\n",
    "(https://query.wikidata.org/sparql?query=SELECT%20%3FlanguageLabel%20(YEAR(%3Finception)%20as%20%3Fyear)%0AWHERE%0A%7B%0A%20%20%23instances%20of%20programming%20language%0A%20%20%3Flanguage%20wdt%3AP31%20wd%3AQ9143%3B%0A%20%20%20%20%20%20%20%20%20%20%20%20wdt%3AP571%20%3Finception%3B%0A%20%20%20%20%20%20%20%20%20%20%20%20rdfs%3Alabel%20%3FlanguageLabel.%0A%20%20FILTER(lang(%3FlanguageLabel)%20%3D%20%22en%22)%0A%7D%0AORDER%20BY%20%3Fyear%0ALIMIT%20100&format=json).\n",
    "\n"
   ]
  },
  {
   "cell_type": "code",
   "execution_count": 4,
   "id": "8adfc9e1",
   "metadata": {},
   "outputs": [
    {
     "name": "stdout",
     "output_type": "stream",
     "text": [
      "    year                              languageLabel\n",
      "0   1942                                 Plankalkül\n",
      "1   1943                        ENIAC coding system\n",
      "2   1946                           ENIAC Short Code\n",
      "3   1946  Von Neumann and Goldstine graphing system\n",
      "4   1947                               ARC Assembly\n",
      "..   ...                                        ...\n",
      "95  1967                                        XPL\n",
      "96  1967                 Space Programming Language\n",
      "97  1968                                      Refal\n",
      "98  1968                                       CICS\n",
      "99  1968                                      FOCAL\n",
      "\n",
      "[100 rows x 2 columns]\n"
     ]
    }
   ],
   "source": [
    "import urllib.request\n",
    "import json\n",
    "import pandas as pd\n",
    "\n",
    "url = \"https://query.wikidata.org/sparql?query=SELECT%20%3FlanguageLabel%20(YEAR(%3Finception)%20as%20%3Fyear)%0AWHERE%0A%7B%0A%20%20%23instances%20of%20programming%20language%0A%20%20%3Flanguage%20wdt%3AP31%20wd%3AQ9143%3B%0A%20%20%20%20%20%20%20%20%20%20%20%20wdt%3AP571%20%3Finception%3B%0A%20%20%20%20%20%20%20%20%20%20%20%20rdfs%3Alabel%20%3FlanguageLabel.%0A%20%20FILTER(lang(%3FlanguageLabel)%20%3D%20%22en%22)%0A%7D%0AORDER%20BY%20%3Fyear%0ALIMIT%20100&format=json\"\n",
    "response = urllib.request.urlopen(url)\n",
    "responsedata = json.loads(response.read().decode(\"utf-8\"))\n",
    "\n",
    "array = []\n",
    "\n",
    "for data in responsedata[\"results\"][\"bindings\"]:\n",
    "    array.append([data[\"year\"][\"value\"], data[\"languageLabel\"][\"value\"]])\n",
    "\n",
    "dataframe = pd.DataFrame(array, columns=[\"year\", \"languageLabel\"])\n",
    "dataframe = dataframe.astype(dtype={\"year\": \"<i4\", \"languageLabel\": \"<U200\"})\n",
    "print(dataframe)"
   ]
  },
  {
   "cell_type": "code",
   "execution_count": 6,
   "id": "2036fbc4-5701-47bb-a94f-763497b5e6de",
   "metadata": {},
   "outputs": [
    {
     "data": {
      "text/plain": "    year                              languageLabel\n0   1942                                 Plankalkül\n1   1943                        ENIAC coding system\n2   1946                           ENIAC Short Code\n3   1946  Von Neumann and Goldstine graphing system\n4   1947                               ARC Assembly\n..   ...                                        ...\n95  1967                                        XPL\n96  1967                 Space Programming Language\n97  1968                                      Refal\n98  1968                                       CICS\n99  1968                                      FOCAL\n\n[100 rows x 2 columns]",
      "text/html": "<div>\n<style scoped>\n    .dataframe tbody tr th:only-of-type {\n        vertical-align: middle;\n    }\n\n    .dataframe tbody tr th {\n        vertical-align: top;\n    }\n\n    .dataframe thead th {\n        text-align: right;\n    }\n</style>\n<table border=\"1\" class=\"dataframe\">\n  <thead>\n    <tr style=\"text-align: right;\">\n      <th></th>\n      <th>year</th>\n      <th>languageLabel</th>\n    </tr>\n  </thead>\n  <tbody>\n    <tr>\n      <th>0</th>\n      <td>1942</td>\n      <td>Plankalkül</td>\n    </tr>\n    <tr>\n      <th>1</th>\n      <td>1943</td>\n      <td>ENIAC coding system</td>\n    </tr>\n    <tr>\n      <th>2</th>\n      <td>1946</td>\n      <td>ENIAC Short Code</td>\n    </tr>\n    <tr>\n      <th>3</th>\n      <td>1946</td>\n      <td>Von Neumann and Goldstine graphing system</td>\n    </tr>\n    <tr>\n      <th>4</th>\n      <td>1947</td>\n      <td>ARC Assembly</td>\n    </tr>\n    <tr>\n      <th>...</th>\n      <td>...</td>\n      <td>...</td>\n    </tr>\n    <tr>\n      <th>95</th>\n      <td>1967</td>\n      <td>XPL</td>\n    </tr>\n    <tr>\n      <th>96</th>\n      <td>1967</td>\n      <td>Space Programming Language</td>\n    </tr>\n    <tr>\n      <th>97</th>\n      <td>1968</td>\n      <td>Refal</td>\n    </tr>\n    <tr>\n      <th>98</th>\n      <td>1968</td>\n      <td>CICS</td>\n    </tr>\n    <tr>\n      <th>99</th>\n      <td>1968</td>\n      <td>FOCAL</td>\n    </tr>\n  </tbody>\n</table>\n<p>100 rows × 2 columns</p>\n</div>"
     },
     "execution_count": 6,
     "metadata": {},
     "output_type": "execute_result"
    }
   ],
   "source": [
    "dataframe"
   ]
  },
  {
   "cell_type": "code",
   "execution_count": 5,
   "id": "5a41bd2d-4486-431a-b0ab-7c157474800d",
   "metadata": {},
   "outputs": [
    {
     "data": {
      "text/plain": "count     100.000000\nmean     1958.280000\nstd         6.532096\nmin      1942.000000\n25%      1952.750000\n50%      1959.000000\n75%      1964.000000\nmax      1968.000000\nName: year, dtype: float64"
     },
     "execution_count": 5,
     "metadata": {},
     "output_type": "execute_result"
    }
   ],
   "source": [
    "dataframe[\"year\"].describe()"
   ]
  },
  {
   "cell_type": "code",
   "execution_count": null,
   "id": "15c5a87b-8a5f-4359-9b6e-90c5359ddc96",
   "metadata": {},
   "outputs": [],
   "source": [
    "dataframe[\"languageLabel\"].describe()"
   ]
  },
  {
   "cell_type": "code",
   "execution_count": 7,
   "id": "fbee8f38-b906-4edb-8dee-44e930502bb5",
   "metadata": {},
   "outputs": [
    {
     "data": {
      "text/plain": "year              int32\nlanguageLabel    object\ndtype: object"
     },
     "execution_count": 7,
     "metadata": {},
     "output_type": "execute_result"
    }
   ],
   "source": [
    "dataframe.dtypes"
   ]
  },
  {
   "cell_type": "markdown",
   "id": "4bc77250",
   "metadata": {},
   "source": [
    "## Exercice 5\n",
    "\n",
    "Cet exercice utilisera quelques analyses de données de base. Poursuivant avec le code de l'exercice 1.4, comptons le nombre de langages de programmation sortis en un an."
   ]
  },
  {
   "cell_type": "code",
   "execution_count": 8,
   "id": "2da2e838",
   "metadata": {},
   "outputs": [
    {
     "data": {
      "text/plain": "      languageLabel\nyear               \n1942              1\n1943              1\n1946              2\n1947              1\n1948              2\n1950              3\n1951             11\n1952              4\n1953              2\n1954              4\n1955              8\n1956              1\n1957              6\n1958              2\n1959              4\n1960              7\n1961              1\n1962              5\n1963              3\n1964             11\n1965              5\n1966              7\n1967              6\n1968              3",
      "text/html": "<div>\n<style scoped>\n    .dataframe tbody tr th:only-of-type {\n        vertical-align: middle;\n    }\n\n    .dataframe tbody tr th {\n        vertical-align: top;\n    }\n\n    .dataframe thead th {\n        text-align: right;\n    }\n</style>\n<table border=\"1\" class=\"dataframe\">\n  <thead>\n    <tr style=\"text-align: right;\">\n      <th></th>\n      <th>languageLabel</th>\n    </tr>\n    <tr>\n      <th>year</th>\n      <th></th>\n    </tr>\n  </thead>\n  <tbody>\n    <tr>\n      <th>1942</th>\n      <td>1</td>\n    </tr>\n    <tr>\n      <th>1943</th>\n      <td>1</td>\n    </tr>\n    <tr>\n      <th>1946</th>\n      <td>2</td>\n    </tr>\n    <tr>\n      <th>1947</th>\n      <td>1</td>\n    </tr>\n    <tr>\n      <th>1948</th>\n      <td>2</td>\n    </tr>\n    <tr>\n      <th>1950</th>\n      <td>3</td>\n    </tr>\n    <tr>\n      <th>1951</th>\n      <td>11</td>\n    </tr>\n    <tr>\n      <th>1952</th>\n      <td>4</td>\n    </tr>\n    <tr>\n      <th>1953</th>\n      <td>2</td>\n    </tr>\n    <tr>\n      <th>1954</th>\n      <td>4</td>\n    </tr>\n    <tr>\n      <th>1955</th>\n      <td>8</td>\n    </tr>\n    <tr>\n      <th>1956</th>\n      <td>1</td>\n    </tr>\n    <tr>\n      <th>1957</th>\n      <td>6</td>\n    </tr>\n    <tr>\n      <th>1958</th>\n      <td>2</td>\n    </tr>\n    <tr>\n      <th>1959</th>\n      <td>4</td>\n    </tr>\n    <tr>\n      <th>1960</th>\n      <td>7</td>\n    </tr>\n    <tr>\n      <th>1961</th>\n      <td>1</td>\n    </tr>\n    <tr>\n      <th>1962</th>\n      <td>5</td>\n    </tr>\n    <tr>\n      <th>1963</th>\n      <td>3</td>\n    </tr>\n    <tr>\n      <th>1964</th>\n      <td>11</td>\n    </tr>\n    <tr>\n      <th>1965</th>\n      <td>5</td>\n    </tr>\n    <tr>\n      <th>1966</th>\n      <td>7</td>\n    </tr>\n    <tr>\n      <th>1967</th>\n      <td>6</td>\n    </tr>\n    <tr>\n      <th>1968</th>\n      <td>3</td>\n    </tr>\n  </tbody>\n</table>\n</div>"
     },
     "execution_count": 8,
     "metadata": {},
     "output_type": "execute_result"
    }
   ],
   "source": [
    "grouped = dataframe.groupby(\"year\").count()\n",
    "grouped"
   ]
  },
  {
   "cell_type": "markdown",
   "source": [
    "Vous pouvez également utiliser plusieurs fonctions d'agrégation en utilisant agg()"
   ],
   "metadata": {
    "collapsed": false
   }
  },
  {
   "cell_type": "code",
   "execution_count": null,
   "id": "1c1c0d1a-533f-42e1-bc6f-ff4df29d2fc8",
   "metadata": {},
   "outputs": [],
   "source": [
    "grouped = dataframe.groupby(\"year\").agg([\"count\"])\n",
    "grouped"
   ]
  },
  {
   "cell_type": "markdown",
   "id": "e6dd8853",
   "metadata": {},
   "source": [
    "Jusqu'à présent, nous avons travaillé avec des tableaux à deux colonnes. Maintenant, nous nous concentrons sur des tableaux à trois colonnes (langage de programmation, année, paradigme). Copiez le fichier [plparadigm.json](../../data/plparadigm.json) dans votre répertoire de travail. Et testez le programme suivant."
   ]
  },
  {
   "cell_type": "code",
   "execution_count": null,
   "id": "6e6ddf77",
   "metadata": {},
   "outputs": [],
   "source": [
    "from pandas.io.json import json_normalize\n",
    "import pandas as pd\n",
    "import json\n",
    "\n",
    "jsondata = json.load(open(\"../../data/plparadigm.json\"))\n",
    "array = []\n",
    "\n",
    "for data in jsondata:\n",
    "    array.append([data[\"year\"], data[\"languageLabel\"], data[\"paradigmLabel\"]])\n",
    "\n",
    "dataframe = pd.DataFrame(array, columns=[\"year\", \"languageLabel\", \"paradigmLabel\"])\n",
    "dataframe = dataframe.astype(\n",
    "    dtype={\"year\": \"int64\", \"languageLabel\": \"<U200\", \"paradigmLabel\": \"<U200\"}\n",
    ")\n",
    "\n",
    "grouped = dataframe.groupby([\"year\", \"paradigmLabel\"]).agg([\"count\"])\n",
    "grouped"
   ]
  },
  {
   "cell_type": "markdown",
   "id": "61a3aa70",
   "metadata": {},
   "source": [
    "Testez maintenant le programme suivant. Comparez la différence de rendement."
   ]
  },
  {
   "cell_type": "code",
   "execution_count": null,
   "id": "8ba1a1a8",
   "metadata": {},
   "outputs": [],
   "source": [
    "grouped = dataframe.groupby([\"paradigmLabel\", \"year\"]).agg([\"count\"])\n",
    "grouped"
   ]
  },
  {
   "cell_type": "markdown",
   "id": "ae158ff6",
   "metadata": {},
   "source": [
    "Votre prochain objectif est de lancer la requête suivante pour obtenir la population\n",
    "des informations sur les différents pays (limitées à 10000 lignes). Exécutez le\n",
    "suite à la requête sur [Wikidata query service](https://query.wikidata.org)\n",
    "et téléchargez le fichier JSON.\n"
   ]
  },
  {
   "cell_type": "markdown",
   "id": "2604d8e2",
   "metadata": {},
   "source": [
    "```\n",
    "SELECT DISTINCT ?countryLabel (YEAR(?date) as ?year) ?population\n",
    "WHERE {\n",
    " ?country wdt:P31 wd:Q6256; #Country \n",
    "   p:P1082 ?populationStatement;\n",
    "  rdfs:label ?countryLabel. #Label\n",
    " ?populationStatement ps:P1082 ?population; #population\n",
    "  pq:P585 ?date. #period in time\n",
    " FILTER(lang(?countryLabel)=\"en\") #Label in English\n",
    "}\n",
    "ORDER by ?countryLabel ?year\n",
    "LIMIT 1000\n",
    "```"
   ]
  },
  {
   "cell_type": "markdown",
   "id": "00fd4cba",
   "metadata": {},
   "source": [
    "Maintenant, calculez et affichez les informations suivantes (en utilisant différentes\n",
    "[opérations disponibles dans la bibliothèque des pandas] (https://pandas.pydata.org/pandas-docs/stable/10min.html)\n",
    "(**Ref:**\n",
    "(https://pandas.pydata.org/pandas-docs/stable/10min.html))):"
   ]
  },
  {
   "cell_type": "code",
   "execution_count": 63,
   "outputs": [],
   "source": [
    "# Préparation des fonctions/constantes pour lancer les requêtes sparql à wikidata\n",
    "\n",
    "import sys\n",
    "from SPARQLWrapper import SPARQLWrapper, JSON\n",
    "\n",
    "endpoint_url = \"https://query.wikidata.org/sparql\"\n",
    "\n",
    "user_agent = \"WDQS-example Python/%s.%s\" % (\n",
    "    sys.version_info[0],\n",
    "    sys.version_info[1],\n",
    ")\n",
    "\n",
    "def get_results(endpoint_url, query):\n",
    "    sparql = SPARQLWrapper(endpoint_url, agent=user_agent)\n",
    "    sparql.setQuery(query)\n",
    "    sparql.setReturnFormat(JSON)\n",
    "    return sparql.query().convert()\n",
    "\n",
    "querry = \"\"\"\n",
    "SELECT DISTINCT ?countryLabel (YEAR(?date) as ?year) ?population\n",
    "WHERE {\n",
    "  ?country wdt:P31 wd:Q6256; #Country\n",
    "    p:P1082 ?populationStatement;\n",
    "    rdfs:label ?countryLabel. #Label\n",
    "  ?populationStatement ps:P1082 ?population; #population\n",
    "    pq:P585 ?date. #period in time\n",
    "  FILTER(lang(?countryLabel)=\"en\") #Label in English\n",
    "}\n",
    "ORDER by ?countryLabel ?year\n",
    "LIMIT 1000\n",
    "\"\"\"\n",
    "\n",
    "raw_response = get_results(endpoint_url,querry)"
   ],
   "metadata": {
    "collapsed": false
   }
  },
  {
   "cell_type": "code",
   "execution_count": 33,
   "outputs": [
    {
     "data": {
      "text/plain": "             nom  année  population\n0    Afghanistan   1960     8774440\n1    Afghanistan   1961     8953544\n2    Afghanistan   1962     9141783\n3    Afghanistan   1963     9339507\n4    Afghanistan   1964     9547131\n..           ...    ...         ...\n995       Brazil   2008   191765567\n996       Brazil   2009   193490922\n997       Brazil   2010   195210154\n998       Brazil   2011   196935134\n999       Brazil   2012   198656019\n\n[1000 rows x 3 columns]",
      "text/html": "<div>\n<style scoped>\n    .dataframe tbody tr th:only-of-type {\n        vertical-align: middle;\n    }\n\n    .dataframe tbody tr th {\n        vertical-align: top;\n    }\n\n    .dataframe thead th {\n        text-align: right;\n    }\n</style>\n<table border=\"1\" class=\"dataframe\">\n  <thead>\n    <tr style=\"text-align: right;\">\n      <th></th>\n      <th>nom</th>\n      <th>année</th>\n      <th>population</th>\n    </tr>\n  </thead>\n  <tbody>\n    <tr>\n      <th>0</th>\n      <td>Afghanistan</td>\n      <td>1960</td>\n      <td>8774440</td>\n    </tr>\n    <tr>\n      <th>1</th>\n      <td>Afghanistan</td>\n      <td>1961</td>\n      <td>8953544</td>\n    </tr>\n    <tr>\n      <th>2</th>\n      <td>Afghanistan</td>\n      <td>1962</td>\n      <td>9141783</td>\n    </tr>\n    <tr>\n      <th>3</th>\n      <td>Afghanistan</td>\n      <td>1963</td>\n      <td>9339507</td>\n    </tr>\n    <tr>\n      <th>4</th>\n      <td>Afghanistan</td>\n      <td>1964</td>\n      <td>9547131</td>\n    </tr>\n    <tr>\n      <th>...</th>\n      <td>...</td>\n      <td>...</td>\n      <td>...</td>\n    </tr>\n    <tr>\n      <th>995</th>\n      <td>Brazil</td>\n      <td>2008</td>\n      <td>191765567</td>\n    </tr>\n    <tr>\n      <th>996</th>\n      <td>Brazil</td>\n      <td>2009</td>\n      <td>193490922</td>\n    </tr>\n    <tr>\n      <th>997</th>\n      <td>Brazil</td>\n      <td>2010</td>\n      <td>195210154</td>\n    </tr>\n    <tr>\n      <th>998</th>\n      <td>Brazil</td>\n      <td>2011</td>\n      <td>196935134</td>\n    </tr>\n    <tr>\n      <th>999</th>\n      <td>Brazil</td>\n      <td>2012</td>\n      <td>198656019</td>\n    </tr>\n  </tbody>\n</table>\n<p>1000 rows × 3 columns</p>\n</div>"
     },
     "execution_count": 33,
     "metadata": {},
     "output_type": "execute_result"
    }
   ],
   "source": [
    "dtype ={\"nom\": \"<U200\",\"année\": \"int64\", \"population\": \"int64\"}\n",
    "\n",
    "dataframe = pd.DataFrame([[prop[\"value\"] for prop in row.values()] for row in raw_response[\"results\"][\"bindings\"]], columns=dtype.keys())\n",
    "dataframe = dataframe.astype(dtype=dtype)\n",
    "\n",
    "dataframe"
   ],
   "metadata": {
    "collapsed": false
   }
  },
  {
   "cell_type": "markdown",
   "source": [
    "1.  La population des pays dans l'ordre alphabétique de leur nom et\n",
    "    par ordre croissant d'année."
   ],
   "metadata": {
    "collapsed": false
   }
  },
  {
   "cell_type": "code",
   "execution_count": 25,
   "outputs": [
    {
     "data": {
      "text/plain": "             nom  année  population\n0    Afghanistan   1960     8774440\n1    Afghanistan   1961     8953544\n2    Afghanistan   1962     9141783\n3    Afghanistan   1963     9339507\n4    Afghanistan   1964     9547131\n..           ...    ...         ...\n995       Brazil   2008   191765567\n996       Brazil   2009   193490922\n997       Brazil   2010   195210154\n998       Brazil   2011   196935134\n999       Brazil   2012   198656019\n\n[1000 rows x 3 columns]",
      "text/html": "<div>\n<style scoped>\n    .dataframe tbody tr th:only-of-type {\n        vertical-align: middle;\n    }\n\n    .dataframe tbody tr th {\n        vertical-align: top;\n    }\n\n    .dataframe thead th {\n        text-align: right;\n    }\n</style>\n<table border=\"1\" class=\"dataframe\">\n  <thead>\n    <tr style=\"text-align: right;\">\n      <th></th>\n      <th>nom</th>\n      <th>année</th>\n      <th>population</th>\n    </tr>\n  </thead>\n  <tbody>\n    <tr>\n      <th>0</th>\n      <td>Afghanistan</td>\n      <td>1960</td>\n      <td>8774440</td>\n    </tr>\n    <tr>\n      <th>1</th>\n      <td>Afghanistan</td>\n      <td>1961</td>\n      <td>8953544</td>\n    </tr>\n    <tr>\n      <th>2</th>\n      <td>Afghanistan</td>\n      <td>1962</td>\n      <td>9141783</td>\n    </tr>\n    <tr>\n      <th>3</th>\n      <td>Afghanistan</td>\n      <td>1963</td>\n      <td>9339507</td>\n    </tr>\n    <tr>\n      <th>4</th>\n      <td>Afghanistan</td>\n      <td>1964</td>\n      <td>9547131</td>\n    </tr>\n    <tr>\n      <th>...</th>\n      <td>...</td>\n      <td>...</td>\n      <td>...</td>\n    </tr>\n    <tr>\n      <th>995</th>\n      <td>Brazil</td>\n      <td>2008</td>\n      <td>191765567</td>\n    </tr>\n    <tr>\n      <th>996</th>\n      <td>Brazil</td>\n      <td>2009</td>\n      <td>193490922</td>\n    </tr>\n    <tr>\n      <th>997</th>\n      <td>Brazil</td>\n      <td>2010</td>\n      <td>195210154</td>\n    </tr>\n    <tr>\n      <th>998</th>\n      <td>Brazil</td>\n      <td>2011</td>\n      <td>196935134</td>\n    </tr>\n    <tr>\n      <th>999</th>\n      <td>Brazil</td>\n      <td>2012</td>\n      <td>198656019</td>\n    </tr>\n  </tbody>\n</table>\n<p>1000 rows × 3 columns</p>\n</div>"
     },
     "execution_count": 25,
     "metadata": {},
     "output_type": "execute_result"
    }
   ],
   "source": [
    "dataframe.sort_values([\"nom\",\"année\"])"
   ],
   "metadata": {
    "collapsed": false
   }
  },
  {
   "cell_type": "markdown",
   "source": [
    "2.  La dernière population disponible de chaque pays"
   ],
   "metadata": {
    "collapsed": false
   }
  },
  {
   "cell_type": "code",
   "execution_count": 56,
   "outputs": [
    {
     "data": {
      "text/plain": "                     année  population\nnom                                   \nAfghanistan           2021    37466414\nAlbania               2022     2793592\nAlgeria               2020    43900000\nAndorra               2021       78151\nAngola                2020    32866270\nAntigua and Barbuda   2021       99337\nArgentina             2022    47327407\nArmenia               2017     2930450\nAruba                 2019      112309\nAustralia             2020    25671900\nAustria               2022     8979894\nAzerbaijan            2021    10145212\nBahrain               2017     1492584\nBangladesh            2021   165775000\nBelarus               2022     9255524\nBenin                 2017    11175692\nBhutan                2017      807610\nBolivia               2017    11051600\nBotswana              2017     2291661\nBrazil                2012   198656019",
      "text/html": "<div>\n<style scoped>\n    .dataframe tbody tr th:only-of-type {\n        vertical-align: middle;\n    }\n\n    .dataframe tbody tr th {\n        vertical-align: top;\n    }\n\n    .dataframe thead th {\n        text-align: right;\n    }\n</style>\n<table border=\"1\" class=\"dataframe\">\n  <thead>\n    <tr style=\"text-align: right;\">\n      <th></th>\n      <th>année</th>\n      <th>population</th>\n    </tr>\n    <tr>\n      <th>nom</th>\n      <th></th>\n      <th></th>\n    </tr>\n  </thead>\n  <tbody>\n    <tr>\n      <th>Afghanistan</th>\n      <td>2021</td>\n      <td>37466414</td>\n    </tr>\n    <tr>\n      <th>Albania</th>\n      <td>2022</td>\n      <td>2793592</td>\n    </tr>\n    <tr>\n      <th>Algeria</th>\n      <td>2020</td>\n      <td>43900000</td>\n    </tr>\n    <tr>\n      <th>Andorra</th>\n      <td>2021</td>\n      <td>78151</td>\n    </tr>\n    <tr>\n      <th>Angola</th>\n      <td>2020</td>\n      <td>32866270</td>\n    </tr>\n    <tr>\n      <th>Antigua and Barbuda</th>\n      <td>2021</td>\n      <td>99337</td>\n    </tr>\n    <tr>\n      <th>Argentina</th>\n      <td>2022</td>\n      <td>47327407</td>\n    </tr>\n    <tr>\n      <th>Armenia</th>\n      <td>2017</td>\n      <td>2930450</td>\n    </tr>\n    <tr>\n      <th>Aruba</th>\n      <td>2019</td>\n      <td>112309</td>\n    </tr>\n    <tr>\n      <th>Australia</th>\n      <td>2020</td>\n      <td>25671900</td>\n    </tr>\n    <tr>\n      <th>Austria</th>\n      <td>2022</td>\n      <td>8979894</td>\n    </tr>\n    <tr>\n      <th>Azerbaijan</th>\n      <td>2021</td>\n      <td>10145212</td>\n    </tr>\n    <tr>\n      <th>Bahrain</th>\n      <td>2017</td>\n      <td>1492584</td>\n    </tr>\n    <tr>\n      <th>Bangladesh</th>\n      <td>2021</td>\n      <td>165775000</td>\n    </tr>\n    <tr>\n      <th>Belarus</th>\n      <td>2022</td>\n      <td>9255524</td>\n    </tr>\n    <tr>\n      <th>Benin</th>\n      <td>2017</td>\n      <td>11175692</td>\n    </tr>\n    <tr>\n      <th>Bhutan</th>\n      <td>2017</td>\n      <td>807610</td>\n    </tr>\n    <tr>\n      <th>Bolivia</th>\n      <td>2017</td>\n      <td>11051600</td>\n    </tr>\n    <tr>\n      <th>Botswana</th>\n      <td>2017</td>\n      <td>2291661</td>\n    </tr>\n    <tr>\n      <th>Brazil</th>\n      <td>2012</td>\n      <td>198656019</td>\n    </tr>\n  </tbody>\n</table>\n</div>"
     },
     "execution_count": 56,
     "metadata": {},
     "output_type": "execute_result"
    }
   ],
   "source": [
    "last_pop_dataframe = dataframe.groupby(\"nom\").last([\"nom\",\"année\"])\n",
    "last_pop_dataframe"
   ],
   "metadata": {
    "collapsed": false
   }
  },
  {
   "cell_type": "markdown",
   "source": [
    "3.  Le pays ayant la population la plus faible et la plus élevée (compte tenu de la\n",
    "    population la plus récente)"
   ],
   "metadata": {
    "collapsed": false
   }
  },
  {
   "cell_type": "code",
   "execution_count": 57,
   "outputs": [
    {
     "data": {
      "text/plain": "             nom  année  population\nmin  Afghanistan   2012       78151\nmax       Brazil   2022   198656019",
      "text/html": "<div>\n<style scoped>\n    .dataframe tbody tr th:only-of-type {\n        vertical-align: middle;\n    }\n\n    .dataframe tbody tr th {\n        vertical-align: top;\n    }\n\n    .dataframe thead th {\n        text-align: right;\n    }\n</style>\n<table border=\"1\" class=\"dataframe\">\n  <thead>\n    <tr style=\"text-align: right;\">\n      <th></th>\n      <th>nom</th>\n      <th>année</th>\n      <th>population</th>\n    </tr>\n  </thead>\n  <tbody>\n    <tr>\n      <th>min</th>\n      <td>Afghanistan</td>\n      <td>2012</td>\n      <td>78151</td>\n    </tr>\n    <tr>\n      <th>max</th>\n      <td>Brazil</td>\n      <td>2022</td>\n      <td>198656019</td>\n    </tr>\n  </tbody>\n</table>\n</div>"
     },
     "execution_count": 57,
     "metadata": {},
     "output_type": "execute_result"
    }
   ],
   "source": [
    "last_pop_dataframe.reset_index().agg(['min', 'max'])"
   ],
   "metadata": {
    "collapsed": false
   }
  },
  {
   "cell_type": "markdown",
   "source": [
    "\n",
    "Votre prochain objectif est de lancer la requête suivante pour obtenir des informations relatives\n",
    "aux articles scientifiques publiés après 2010 (limité à 10 000 lignes). Lancer\n",
    "la requête suivante sur [Wikidata query service](https://query.wikidata.org) et téléchargez le fichier JSON.\n",
    "Il vous donne les informations suivantes relatives à la recherche scientifique\n",
    "article : titre, sujet principal et année de publication.\n"
   ],
   "metadata": {
    "collapsed": false
   }
  },
  {
   "cell_type": "markdown",
   "id": "a6004aa1",
   "metadata": {},
   "source": [
    "```\n",
    "SELECT ?title ?subjectLabel ?year\n",
    "{\n",
    "    ?article wdt:P31 wd:Q13442814; #scientific article\n",
    "             wdt:P1476 ?title; #title of the article\n",
    "             wdt:P921 ?subject; #main subject\n",
    "             wdt:P577 ?date. #publication date\n",
    "    ?subject rdfs:label ?subjectLabel.\n",
    "    BIND(YEAR(?date) as ?year).\n",
    "    #published after 2010\n",
    "    FILTER(lang(?title)=\"en\" &&\n",
    "     lang(?subjectLabel)=\"en\" && ?year>2010)\n",
    "}\n",
    "LIMIT 10000\n",
    "```\n",
    "\n"
   ]
  },
  {
   "cell_type": "markdown",
   "id": "9994f154",
   "metadata": {},
   "source": [
    "Maintenant, calculez et affichez les informations suivantes (en utilisant diverses [opérations disponibles dans la bibliothèque des pandas](https://pandas.pydata.org/pandas-docs/stable/10min.html)\n",
    "(**Ref:**\n",
    "(https://pandas.pydata.org/pandas-docs/stable/10min.html))):"
   ]
  },
  {
   "cell_type": "code",
   "execution_count": 69,
   "outputs": [],
   "source": [
    "raw_response = get_results(endpoint_url,\"\"\"\n",
    "SELECT ?title ?subjectLabel ?year\n",
    "{\n",
    "    ?article wdt:P31 wd:Q13442814; #scientific article\n",
    "             wdt:P1476 ?title; #title of the article\n",
    "             wdt:P921 ?subject; #main subject\n",
    "             wdt:P577 ?date. #publication date\n",
    "    ?subject rdfs:label ?subjectLabel.\n",
    "    BIND(YEAR(?date) as ?year).\n",
    "    #published after 2010\n",
    "    FILTER(lang(?title)=\"en\" &&\n",
    "     lang(?subjectLabel)=\"en\" && ?year>2010)\n",
    "}\n",
    "LIMIT 5000\"\"\"\n",
    ")"
   ],
   "metadata": {
    "collapsed": false
   }
  },
  {
   "cell_type": "code",
   "execution_count": 73,
   "outputs": [
    {
     "data": {
      "text/plain": "                                                  titre     sujet  année\n0     The Universe, the Light, the Earth, the Life: ...  universe   2020\n1      Entropy export as the driving force of evolution      life   2021\n2     The Universe, the Light, the Earth, the Life: ...      life   2020\n3                                Thermodynamics of Life      life   2021\n4     The Universe, the Light, the Earth, the Life: ...     Earth   2020\n...                                                 ...       ...    ...\n4995  Negotiating Violence in the Context of Transph...    Canada   2015\n4996  Mercury, selenium and neurochemical biomarkers...    Canada   2011\n4997  A Powerful New Partnership to Build Leadership...    Canada   2016\n4998  Cost-benefit analysis for invasive species con...    Canada   2018\n4999  Asylum-seeking children's experiences of deten...    Canada   2015\n\n[5000 rows x 3 columns]",
      "text/html": "<div>\n<style scoped>\n    .dataframe tbody tr th:only-of-type {\n        vertical-align: middle;\n    }\n\n    .dataframe tbody tr th {\n        vertical-align: top;\n    }\n\n    .dataframe thead th {\n        text-align: right;\n    }\n</style>\n<table border=\"1\" class=\"dataframe\">\n  <thead>\n    <tr style=\"text-align: right;\">\n      <th></th>\n      <th>titre</th>\n      <th>sujet</th>\n      <th>année</th>\n    </tr>\n  </thead>\n  <tbody>\n    <tr>\n      <th>0</th>\n      <td>The Universe, the Light, the Earth, the Life: ...</td>\n      <td>universe</td>\n      <td>2020</td>\n    </tr>\n    <tr>\n      <th>1</th>\n      <td>Entropy export as the driving force of evolution</td>\n      <td>life</td>\n      <td>2021</td>\n    </tr>\n    <tr>\n      <th>2</th>\n      <td>The Universe, the Light, the Earth, the Life: ...</td>\n      <td>life</td>\n      <td>2020</td>\n    </tr>\n    <tr>\n      <th>3</th>\n      <td>Thermodynamics of Life</td>\n      <td>life</td>\n      <td>2021</td>\n    </tr>\n    <tr>\n      <th>4</th>\n      <td>The Universe, the Light, the Earth, the Life: ...</td>\n      <td>Earth</td>\n      <td>2020</td>\n    </tr>\n    <tr>\n      <th>...</th>\n      <td>...</td>\n      <td>...</td>\n      <td>...</td>\n    </tr>\n    <tr>\n      <th>4995</th>\n      <td>Negotiating Violence in the Context of Transph...</td>\n      <td>Canada</td>\n      <td>2015</td>\n    </tr>\n    <tr>\n      <th>4996</th>\n      <td>Mercury, selenium and neurochemical biomarkers...</td>\n      <td>Canada</td>\n      <td>2011</td>\n    </tr>\n    <tr>\n      <th>4997</th>\n      <td>A Powerful New Partnership to Build Leadership...</td>\n      <td>Canada</td>\n      <td>2016</td>\n    </tr>\n    <tr>\n      <th>4998</th>\n      <td>Cost-benefit analysis for invasive species con...</td>\n      <td>Canada</td>\n      <td>2018</td>\n    </tr>\n    <tr>\n      <th>4999</th>\n      <td>Asylum-seeking children's experiences of deten...</td>\n      <td>Canada</td>\n      <td>2015</td>\n    </tr>\n  </tbody>\n</table>\n<p>5000 rows × 3 columns</p>\n</div>"
     },
     "execution_count": 73,
     "metadata": {},
     "output_type": "execute_result"
    }
   ],
   "source": [
    "dtype ={\"titre\": \"<U200\",\"sujet\": \"<U200\", \"année\": \"int64\"}\n",
    "\n",
    "dataframe = pd.DataFrame([[prop[\"value\"] for prop in row.values()] for row in raw_response[\"results\"][\"bindings\"]], columns=dtype.keys())\n",
    "dataframe = dataframe.astype(dtype=dtype)\n",
    "\n",
    "dataframe"
   ],
   "metadata": {
    "collapsed": false
   }
  },
  {
   "cell_type": "markdown",
   "source": [
    "\n",
    "1.  Le nombre d'articles publiés sur différents sujets chaque année."
   ],
   "metadata": {
    "collapsed": false
   }
  },
  {
   "cell_type": "code",
   "execution_count": 93,
   "outputs": [
    {
     "data": {
      "text/plain": "année\n2011    4\n2012    5\n2013    5\n2014    5\n2015    5\n2016    5\n2017    4\n2018    5\n2019    3\n2020    7\n2021    5\n2022    1\nName: sujet, dtype: int64"
     },
     "execution_count": 93,
     "metadata": {},
     "output_type": "execute_result"
    }
   ],
   "source": [
    "dataframe.groupby(\"année\").sujet.nunique()"
   ],
   "metadata": {
    "collapsed": false
   }
  },
  {
   "cell_type": "markdown",
   "source": [
    "2.  Principal sujet d'intérêt pour la communauté scientifique chaque année (sur la base\n",
    "    sur les résultats de l'interrogation ci-dessus)."
   ],
   "metadata": {
    "collapsed": false
   }
  },
  {
   "cell_type": "code",
   "execution_count": null,
   "outputs": [],
   "source": [
    "from numpy import size\n",
    "\n",
    "res = dataframe.groupby([\"année\",\"sujet\"]).count()\n",
    "res"
   ],
   "metadata": {
    "collapsed": false,
    "pycharm": {
     "is_executing": true
    }
   }
  },
  {
   "cell_type": "markdown",
   "source": [
    "3.  Les 10 principaux sujets d'intérêt pour la communauté scientifique (sur la base\n",
    "    les résultats de l'interrogation ci-dessus) depuis 2010."
   ],
   "metadata": {
    "collapsed": false
   }
  },
  {
   "cell_type": "markdown",
   "source": [
    "\n",
    "**Indice**: Regardez les fonctions groupby, reset_index, head, tail, sort_values, count de Pandas\n",
    "\n"
   ],
   "metadata": {
    "collapsed": false
   }
  },
  {
   "cell_type": "markdown",
   "id": "ec6830b6-faef-438e-9bcc-3c1d251753f1",
   "metadata": {},
   "source": [
    "**Remarque**: Si vous obtenez des erreurs de dépassement de temps (time-out), veuillez modifier la LIMITE à des valeurs inférieures (1000, 2000, 5000)."
   ]
  },
  {
   "cell_type": "markdown",
   "id": "6e20972e-fa0e-49ab-baea-ad69a04eae5d",
   "metadata": {},
   "source": [
    "## Exercice 6\n",
    "\n",
    "Dans notre dernier exercice, nous allons interroger Wikidata et obtenir les URL des images. Ensuite, nous téléchargerons ces images."
   ]
  },
  {
   "cell_type": "code",
   "execution_count": null,
   "id": "dd45b216-54a6-417e-9d84-4e116cdd508b",
   "metadata": {},
   "outputs": [],
   "source": [
    "!pip install sparqlwrapper"
   ]
  },
  {
   "cell_type": "code",
   "execution_count": 3,
   "id": "cbcc901a-1e44-44b8-bf22-135e6b00ecd6",
   "metadata": {},
   "outputs": [],
   "source": [
    "import sys\n",
    "from SPARQLWrapper import SPARQLWrapper, JSON\n",
    "import pandas as pd\n",
    "\n",
    "endpoint_url = \"https://query.wikidata.org/sparql\"\n",
    "\n",
    "# Get cities\n",
    "query = \"\"\"SELECT DISTINCT ?grandeville ?grandevilleLabel ?pays ?paysLabel ?image {\n",
    "  ?grandeville wdt:P31 wd:Q1549591;\n",
    "               wdt:P17 ?pays;\n",
    "               wdt:P18 ?image.\n",
    " SERVICE wikibase:label { bd:serviceParam wikibase:language \"fr\". }\n",
    "}\n",
    "LIMIT 10\"\"\"\n",
    "\n",
    "\n",
    "def get_results(endpoint_url, query):\n",
    "    user_agent = \"WDQS-example Python/%s.%s\" % (\n",
    "        sys.version_info[0],\n",
    "        sys.version_info[1],\n",
    "    )\n",
    "    sparql = SPARQLWrapper(endpoint_url, agent=user_agent)\n",
    "    sparql.setQuery(query)\n",
    "    sparql.setReturnFormat(JSON)\n",
    "    return sparql.query().convert()\n",
    "\n",
    "\n",
    "array = []\n",
    "results = get_results(endpoint_url, query)\n",
    "\n",
    "for result in results[\"results\"][\"bindings\"]:\n",
    "    array.append(\n",
    "        (\n",
    "            result[\"grandevilleLabel\"][\"value\"],\n",
    "            result[\"paysLabel\"][\"value\"],\n",
    "            result[\"image\"][\"value\"],\n",
    "        )\n",
    "    )"
   ]
  },
  {
   "cell_type": "code",
   "execution_count": 4,
   "id": "42f6d72d-ae1e-4e59-a38f-c0ed356ba85f",
   "metadata": {},
   "outputs": [
    {
     "data": {
      "text/plain": "        ville          pays                                              image\n0     Saratov        Russie  http://commons.wikimedia.org/wiki/Special:File...\n1      Manama       Bahreïn  http://commons.wikimedia.org/wiki/Special:File...\n2    Thimphou       Bhoutan  http://commons.wikimedia.org/wiki/Special:File...\n3     Bichkek  Kirghizistan  http://commons.wikimedia.org/wiki/Special:File...\n4     Glasgow   Royaume-Uni  http://commons.wikimedia.org/wiki/Special:File...\n5   Astrakhan        Russie  http://commons.wikimedia.org/wiki/Special:File...\n6  Samarcande   Ouzbékistan  http://commons.wikimedia.org/wiki/Special:File...\n7     Orléans        France  http://commons.wikimedia.org/wiki/Special:File...\n8       Séoul  Corée du Sud  http://commons.wikimedia.org/wiki/Special:File...\n9  Oulan-Oudé        Russie  http://commons.wikimedia.org/wiki/Special:File...",
      "text/html": "<div>\n<style scoped>\n    .dataframe tbody tr th:only-of-type {\n        vertical-align: middle;\n    }\n\n    .dataframe tbody tr th {\n        vertical-align: top;\n    }\n\n    .dataframe thead th {\n        text-align: right;\n    }\n</style>\n<table border=\"1\" class=\"dataframe\">\n  <thead>\n    <tr style=\"text-align: right;\">\n      <th></th>\n      <th>ville</th>\n      <th>pays</th>\n      <th>image</th>\n    </tr>\n  </thead>\n  <tbody>\n    <tr>\n      <th>0</th>\n      <td>Saratov</td>\n      <td>Russie</td>\n      <td>http://commons.wikimedia.org/wiki/Special:File...</td>\n    </tr>\n    <tr>\n      <th>1</th>\n      <td>Manama</td>\n      <td>Bahreïn</td>\n      <td>http://commons.wikimedia.org/wiki/Special:File...</td>\n    </tr>\n    <tr>\n      <th>2</th>\n      <td>Thimphou</td>\n      <td>Bhoutan</td>\n      <td>http://commons.wikimedia.org/wiki/Special:File...</td>\n    </tr>\n    <tr>\n      <th>3</th>\n      <td>Bichkek</td>\n      <td>Kirghizistan</td>\n      <td>http://commons.wikimedia.org/wiki/Special:File...</td>\n    </tr>\n    <tr>\n      <th>4</th>\n      <td>Glasgow</td>\n      <td>Royaume-Uni</td>\n      <td>http://commons.wikimedia.org/wiki/Special:File...</td>\n    </tr>\n    <tr>\n      <th>5</th>\n      <td>Astrakhan</td>\n      <td>Russie</td>\n      <td>http://commons.wikimedia.org/wiki/Special:File...</td>\n    </tr>\n    <tr>\n      <th>6</th>\n      <td>Samarcande</td>\n      <td>Ouzbékistan</td>\n      <td>http://commons.wikimedia.org/wiki/Special:File...</td>\n    </tr>\n    <tr>\n      <th>7</th>\n      <td>Orléans</td>\n      <td>France</td>\n      <td>http://commons.wikimedia.org/wiki/Special:File...</td>\n    </tr>\n    <tr>\n      <th>8</th>\n      <td>Séoul</td>\n      <td>Corée du Sud</td>\n      <td>http://commons.wikimedia.org/wiki/Special:File...</td>\n    </tr>\n    <tr>\n      <th>9</th>\n      <td>Oulan-Oudé</td>\n      <td>Russie</td>\n      <td>http://commons.wikimedia.org/wiki/Special:File...</td>\n    </tr>\n  </tbody>\n</table>\n</div>"
     },
     "execution_count": 4,
     "metadata": {},
     "output_type": "execute_result"
    }
   ],
   "source": [
    "dataframe = pd.DataFrame(array, columns=[\"ville\", \"pays\", \"image\"])\n",
    "dataframe = dataframe.astype(\n",
    "    dtype={\"ville\": \"<U200\", \"pays\": \"<U200\", \"image\": \"<U200\"}\n",
    ")\n",
    "dataframe"
   ]
  },
  {
   "cell_type": "markdown",
   "id": "eb447a55-f8ea-4ddb-88d1-33911f2acc35",
   "metadata": {},
   "source": [
    "Nous allons maintenant télécharger les images"
   ]
  },
  {
   "cell_type": "code",
   "execution_count": 6,
   "id": "307c6bcd-24e1-4040-b7de-a62456d4c377",
   "metadata": {},
   "outputs": [],
   "source": [
    "import requests\n",
    "import shutil\n",
    "import os\n",
    "\n",
    "\n",
    "def download_image(url:str):\n",
    "\n",
    "    headers = {\"User-Agent\": \"Mozilla/5.0\"}\n",
    "    request = requests.get(url, allow_redirects=True, headers=headers, stream=True)\n",
    "    if request.status_code == 200:\n",
    "        with open(os.path.basename(url), \"wb\") as image:\n",
    "            request.raw.decode_content = True\n",
    "            shutil.copyfileobj(request.raw, image)\n",
    "    else:\n",
    "        print(\"erreur\")\n",
    "    return request.status_code"
   ]
  },
  {
   "cell_type": "code",
   "execution_count": 10,
   "id": "93bc8514-6631-4283-8c20-ea3ab34a54b6",
   "metadata": {},
   "outputs": [
    {
     "data": {
      "text/plain": "0    200\n1    200\n2    200\n3    200\n4    200\n5    200\n6    200\n7    200\n8    200\n9    200\nName: image, dtype: int64"
     },
     "execution_count": 10,
     "metadata": {},
     "output_type": "execute_result"
    }
   ],
   "source": [
    "dataframe.image.apply(download_image)"
   ]
  },
  {
   "cell_type": "markdown",
   "id": "8b7f3a35-a514-40a9-b6c6-6e7e03af60be",
   "metadata": {},
   "source": [
    "Modifiez le code ci-dessus et téléchargez des images liées au sujet de votre choix (villes, monuments historiques, fleurs, bâtiments, etc.)."
   ]
  }
 ],
 "metadata": {
  "kernelspec": {
   "display_name": "Python 3 (ipykernel)",
   "language": "python",
   "name": "python3"
  },
  "language_info": {
   "codemirror_mode": {
    "name": "ipython",
    "version": 3
   },
   "file_extension": ".py",
   "mimetype": "text/x-python",
   "name": "python",
   "nbconvert_exporter": "python",
   "pygments_lexer": "ipython3",
   "version": "3.11.1"
  }
 },
 "nbformat": 4,
 "nbformat_minor": 5
}
